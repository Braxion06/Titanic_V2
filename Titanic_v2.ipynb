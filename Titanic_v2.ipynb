{
 "cells": [
  {
   "attachments": {},
   "cell_type": "markdown",
   "metadata": {},
   "source": [
    "# Titanic Kaggle Competition\n",
    "\n",
    "\n",
    "In this notebook we're going to predict if a certain passenger of the titanic surived or not using machine learning.\n",
    "\n",
    "This is a competition from kaggle, who provides the data to train, test and compare a submission"
   ]
  },
  {
   "cell_type": "markdown",
   "metadata": {},
   "source": [
    "Data dictionary \n",
    "\n",
    "**PassengerId:**\n",
    "\n",
    "**Pclass:** Ticket class, 1 = 1st, 2 = 2nd, 3 = 3rd\n",
    "\n",
    "**Name:** Name of the passenger\n",
    "\n",
    "**Sex:** Sex\n",
    "\n",
    "**Age:** Age\n",
    "\n",
    "**SibSp:** Number of siblings or spouses aboard the Titanic\n",
    "\n",
    "**Parch:** Number of parents aboard the Titanic\n",
    "\n",
    "**Ticket:** Ticket number\n",
    "\n",
    "**Fare:** Passenger fare\n",
    "\n",
    "**Cabin:** Cabin number\n",
    "\n",
    "**Embarked:** Port of embarkation, C = Cherbourg, Q = Queenstown, S = Southampton\n",
    "\n",
    "**Surived:** Did the passanger survived, this is the label, 0 = No, 1 = Yes"
   ]
  },
  {
   "cell_type": "code",
   "execution_count": 1,
   "metadata": {},
   "outputs": [],
   "source": [
    "# Import the necessary libraries\n",
    "import re\n",
    "import numpy as np\n",
    "import pandas as pd\n",
    "import matplotlib.pyplot as plt\n",
    "from xgboost import XGBClassifier\n",
    "from sklearn.preprocessing import StandardScaler, LabelEncoder\n",
    "from sklearn.model_selection import train_test_split\n",
    "from sklearn.metrics import confusion_matrix, mean_squared_error, accuracy_score, f1_score, precision_score, recall_score, precision_recall_fscore_support"
   ]
  },
  {
   "cell_type": "code",
   "execution_count": 2,
   "metadata": {},
   "outputs": [],
   "source": [
    "# Read the dataset\n",
    "df = pd.read_csv('data/train.csv')"
   ]
  },
  {
   "cell_type": "code",
   "execution_count": 3,
   "metadata": {},
   "outputs": [
    {
     "data": {
      "text/html": [
       "<div>\n",
       "<style scoped>\n",
       "    .dataframe tbody tr th:only-of-type {\n",
       "        vertical-align: middle;\n",
       "    }\n",
       "\n",
       "    .dataframe tbody tr th {\n",
       "        vertical-align: top;\n",
       "    }\n",
       "\n",
       "    .dataframe thead th {\n",
       "        text-align: right;\n",
       "    }\n",
       "</style>\n",
       "<table border=\"1\" class=\"dataframe\">\n",
       "  <thead>\n",
       "    <tr style=\"text-align: right;\">\n",
       "      <th></th>\n",
       "      <th>PassengerId</th>\n",
       "      <th>Survived</th>\n",
       "      <th>Pclass</th>\n",
       "      <th>Name</th>\n",
       "      <th>Sex</th>\n",
       "      <th>Age</th>\n",
       "      <th>SibSp</th>\n",
       "      <th>Parch</th>\n",
       "      <th>Ticket</th>\n",
       "      <th>Fare</th>\n",
       "      <th>Cabin</th>\n",
       "      <th>Embarked</th>\n",
       "    </tr>\n",
       "  </thead>\n",
       "  <tbody>\n",
       "    <tr>\n",
       "      <th>0</th>\n",
       "      <td>1</td>\n",
       "      <td>0</td>\n",
       "      <td>3</td>\n",
       "      <td>Braund, Mr. Owen Harris</td>\n",
       "      <td>male</td>\n",
       "      <td>22.0</td>\n",
       "      <td>1</td>\n",
       "      <td>0</td>\n",
       "      <td>A/5 21171</td>\n",
       "      <td>7.2500</td>\n",
       "      <td>NaN</td>\n",
       "      <td>S</td>\n",
       "    </tr>\n",
       "    <tr>\n",
       "      <th>1</th>\n",
       "      <td>2</td>\n",
       "      <td>1</td>\n",
       "      <td>1</td>\n",
       "      <td>Cumings, Mrs. John Bradley (Florence Briggs Th...</td>\n",
       "      <td>female</td>\n",
       "      <td>38.0</td>\n",
       "      <td>1</td>\n",
       "      <td>0</td>\n",
       "      <td>PC 17599</td>\n",
       "      <td>71.2833</td>\n",
       "      <td>C85</td>\n",
       "      <td>C</td>\n",
       "    </tr>\n",
       "    <tr>\n",
       "      <th>2</th>\n",
       "      <td>3</td>\n",
       "      <td>1</td>\n",
       "      <td>3</td>\n",
       "      <td>Heikkinen, Miss. Laina</td>\n",
       "      <td>female</td>\n",
       "      <td>26.0</td>\n",
       "      <td>0</td>\n",
       "      <td>0</td>\n",
       "      <td>STON/O2. 3101282</td>\n",
       "      <td>7.9250</td>\n",
       "      <td>NaN</td>\n",
       "      <td>S</td>\n",
       "    </tr>\n",
       "    <tr>\n",
       "      <th>3</th>\n",
       "      <td>4</td>\n",
       "      <td>1</td>\n",
       "      <td>1</td>\n",
       "      <td>Futrelle, Mrs. Jacques Heath (Lily May Peel)</td>\n",
       "      <td>female</td>\n",
       "      <td>35.0</td>\n",
       "      <td>1</td>\n",
       "      <td>0</td>\n",
       "      <td>113803</td>\n",
       "      <td>53.1000</td>\n",
       "      <td>C123</td>\n",
       "      <td>S</td>\n",
       "    </tr>\n",
       "    <tr>\n",
       "      <th>4</th>\n",
       "      <td>5</td>\n",
       "      <td>0</td>\n",
       "      <td>3</td>\n",
       "      <td>Allen, Mr. William Henry</td>\n",
       "      <td>male</td>\n",
       "      <td>35.0</td>\n",
       "      <td>0</td>\n",
       "      <td>0</td>\n",
       "      <td>373450</td>\n",
       "      <td>8.0500</td>\n",
       "      <td>NaN</td>\n",
       "      <td>S</td>\n",
       "    </tr>\n",
       "  </tbody>\n",
       "</table>\n",
       "</div>"
      ],
      "text/plain": [
       "   PassengerId  Survived  Pclass  \\\n",
       "0            1         0       3   \n",
       "1            2         1       1   \n",
       "2            3         1       3   \n",
       "3            4         1       1   \n",
       "4            5         0       3   \n",
       "\n",
       "                                                Name     Sex   Age  SibSp  \\\n",
       "0                            Braund, Mr. Owen Harris    male  22.0      1   \n",
       "1  Cumings, Mrs. John Bradley (Florence Briggs Th...  female  38.0      1   \n",
       "2                             Heikkinen, Miss. Laina  female  26.0      0   \n",
       "3       Futrelle, Mrs. Jacques Heath (Lily May Peel)  female  35.0      1   \n",
       "4                           Allen, Mr. William Henry    male  35.0      0   \n",
       "\n",
       "   Parch            Ticket     Fare Cabin Embarked  \n",
       "0      0         A/5 21171   7.2500   NaN        S  \n",
       "1      0          PC 17599  71.2833   C85        C  \n",
       "2      0  STON/O2. 3101282   7.9250   NaN        S  \n",
       "3      0            113803  53.1000  C123        S  \n",
       "4      0            373450   8.0500   NaN        S  "
      ]
     },
     "execution_count": 3,
     "metadata": {},
     "output_type": "execute_result"
    }
   ],
   "source": [
    "# Check the dataset\n",
    "df.head()"
   ]
  },
  {
   "attachments": {},
   "cell_type": "markdown",
   "metadata": {},
   "source": [
    "## EDA - Exploratory Data Analysis "
   ]
  },
  {
   "cell_type": "markdown",
   "metadata": {},
   "source": [
    "Size and shape of the dataset"
   ]
  },
  {
   "cell_type": "code",
   "execution_count": 4,
   "metadata": {},
   "outputs": [
    {
     "data": {
      "text/plain": [
       "(891, 12)"
      ]
     },
     "execution_count": 4,
     "metadata": {},
     "output_type": "execute_result"
    }
   ],
   "source": [
    "df.shape"
   ]
  },
  {
   "cell_type": "markdown",
   "metadata": {},
   "source": [
    "Check some aggregates of the dataset"
   ]
  },
  {
   "cell_type": "code",
   "execution_count": 5,
   "metadata": {},
   "outputs": [
    {
     "data": {
      "text/html": [
       "<div>\n",
       "<style scoped>\n",
       "    .dataframe tbody tr th:only-of-type {\n",
       "        vertical-align: middle;\n",
       "    }\n",
       "\n",
       "    .dataframe tbody tr th {\n",
       "        vertical-align: top;\n",
       "    }\n",
       "\n",
       "    .dataframe thead th {\n",
       "        text-align: right;\n",
       "    }\n",
       "</style>\n",
       "<table border=\"1\" class=\"dataframe\">\n",
       "  <thead>\n",
       "    <tr style=\"text-align: right;\">\n",
       "      <th></th>\n",
       "      <th>PassengerId</th>\n",
       "      <th>Survived</th>\n",
       "      <th>Pclass</th>\n",
       "      <th>Age</th>\n",
       "      <th>SibSp</th>\n",
       "      <th>Parch</th>\n",
       "      <th>Fare</th>\n",
       "    </tr>\n",
       "  </thead>\n",
       "  <tbody>\n",
       "    <tr>\n",
       "      <th>count</th>\n",
       "      <td>891.000000</td>\n",
       "      <td>891.000000</td>\n",
       "      <td>891.000000</td>\n",
       "      <td>714.000000</td>\n",
       "      <td>891.000000</td>\n",
       "      <td>891.000000</td>\n",
       "      <td>891.000000</td>\n",
       "    </tr>\n",
       "    <tr>\n",
       "      <th>mean</th>\n",
       "      <td>446.000000</td>\n",
       "      <td>0.383838</td>\n",
       "      <td>2.308642</td>\n",
       "      <td>29.699118</td>\n",
       "      <td>0.523008</td>\n",
       "      <td>0.381594</td>\n",
       "      <td>32.204208</td>\n",
       "    </tr>\n",
       "    <tr>\n",
       "      <th>std</th>\n",
       "      <td>257.353842</td>\n",
       "      <td>0.486592</td>\n",
       "      <td>0.836071</td>\n",
       "      <td>14.526497</td>\n",
       "      <td>1.102743</td>\n",
       "      <td>0.806057</td>\n",
       "      <td>49.693429</td>\n",
       "    </tr>\n",
       "    <tr>\n",
       "      <th>min</th>\n",
       "      <td>1.000000</td>\n",
       "      <td>0.000000</td>\n",
       "      <td>1.000000</td>\n",
       "      <td>0.420000</td>\n",
       "      <td>0.000000</td>\n",
       "      <td>0.000000</td>\n",
       "      <td>0.000000</td>\n",
       "    </tr>\n",
       "    <tr>\n",
       "      <th>25%</th>\n",
       "      <td>223.500000</td>\n",
       "      <td>0.000000</td>\n",
       "      <td>2.000000</td>\n",
       "      <td>20.125000</td>\n",
       "      <td>0.000000</td>\n",
       "      <td>0.000000</td>\n",
       "      <td>7.910400</td>\n",
       "    </tr>\n",
       "    <tr>\n",
       "      <th>50%</th>\n",
       "      <td>446.000000</td>\n",
       "      <td>0.000000</td>\n",
       "      <td>3.000000</td>\n",
       "      <td>28.000000</td>\n",
       "      <td>0.000000</td>\n",
       "      <td>0.000000</td>\n",
       "      <td>14.454200</td>\n",
       "    </tr>\n",
       "    <tr>\n",
       "      <th>75%</th>\n",
       "      <td>668.500000</td>\n",
       "      <td>1.000000</td>\n",
       "      <td>3.000000</td>\n",
       "      <td>38.000000</td>\n",
       "      <td>1.000000</td>\n",
       "      <td>0.000000</td>\n",
       "      <td>31.000000</td>\n",
       "    </tr>\n",
       "    <tr>\n",
       "      <th>max</th>\n",
       "      <td>891.000000</td>\n",
       "      <td>1.000000</td>\n",
       "      <td>3.000000</td>\n",
       "      <td>80.000000</td>\n",
       "      <td>8.000000</td>\n",
       "      <td>6.000000</td>\n",
       "      <td>512.329200</td>\n",
       "    </tr>\n",
       "  </tbody>\n",
       "</table>\n",
       "</div>"
      ],
      "text/plain": [
       "       PassengerId    Survived      Pclass         Age       SibSp  \\\n",
       "count   891.000000  891.000000  891.000000  714.000000  891.000000   \n",
       "mean    446.000000    0.383838    2.308642   29.699118    0.523008   \n",
       "std     257.353842    0.486592    0.836071   14.526497    1.102743   \n",
       "min       1.000000    0.000000    1.000000    0.420000    0.000000   \n",
       "25%     223.500000    0.000000    2.000000   20.125000    0.000000   \n",
       "50%     446.000000    0.000000    3.000000   28.000000    0.000000   \n",
       "75%     668.500000    1.000000    3.000000   38.000000    1.000000   \n",
       "max     891.000000    1.000000    3.000000   80.000000    8.000000   \n",
       "\n",
       "            Parch        Fare  \n",
       "count  891.000000  891.000000  \n",
       "mean     0.381594   32.204208  \n",
       "std      0.806057   49.693429  \n",
       "min      0.000000    0.000000  \n",
       "25%      0.000000    7.910400  \n",
       "50%      0.000000   14.454200  \n",
       "75%      0.000000   31.000000  \n",
       "max      6.000000  512.329200  "
      ]
     },
     "execution_count": 5,
     "metadata": {},
     "output_type": "execute_result"
    }
   ],
   "source": [
    "df.describe()"
   ]
  },
  {
   "cell_type": "code",
   "execution_count": 6,
   "metadata": {},
   "outputs": [
    {
     "name": "stderr",
     "output_type": "stream",
     "text": [
      "C:\\Users\\Brahyam Almonte Ruiz\\AppData\\Local\\Temp\\ipykernel_17280\\1134722465.py:1: FutureWarning: The default value of numeric_only in DataFrame.corr is deprecated. In a future version, it will default to False. Select only valid columns or specify the value of numeric_only to silence this warning.\n",
      "  df.corr()\n"
     ]
    },
    {
     "data": {
      "text/html": [
       "<div>\n",
       "<style scoped>\n",
       "    .dataframe tbody tr th:only-of-type {\n",
       "        vertical-align: middle;\n",
       "    }\n",
       "\n",
       "    .dataframe tbody tr th {\n",
       "        vertical-align: top;\n",
       "    }\n",
       "\n",
       "    .dataframe thead th {\n",
       "        text-align: right;\n",
       "    }\n",
       "</style>\n",
       "<table border=\"1\" class=\"dataframe\">\n",
       "  <thead>\n",
       "    <tr style=\"text-align: right;\">\n",
       "      <th></th>\n",
       "      <th>PassengerId</th>\n",
       "      <th>Survived</th>\n",
       "      <th>Pclass</th>\n",
       "      <th>Age</th>\n",
       "      <th>SibSp</th>\n",
       "      <th>Parch</th>\n",
       "      <th>Fare</th>\n",
       "    </tr>\n",
       "  </thead>\n",
       "  <tbody>\n",
       "    <tr>\n",
       "      <th>PassengerId</th>\n",
       "      <td>1.000000</td>\n",
       "      <td>-0.005007</td>\n",
       "      <td>-0.035144</td>\n",
       "      <td>0.036847</td>\n",
       "      <td>-0.057527</td>\n",
       "      <td>-0.001652</td>\n",
       "      <td>0.012658</td>\n",
       "    </tr>\n",
       "    <tr>\n",
       "      <th>Survived</th>\n",
       "      <td>-0.005007</td>\n",
       "      <td>1.000000</td>\n",
       "      <td>-0.338481</td>\n",
       "      <td>-0.077221</td>\n",
       "      <td>-0.035322</td>\n",
       "      <td>0.081629</td>\n",
       "      <td>0.257307</td>\n",
       "    </tr>\n",
       "    <tr>\n",
       "      <th>Pclass</th>\n",
       "      <td>-0.035144</td>\n",
       "      <td>-0.338481</td>\n",
       "      <td>1.000000</td>\n",
       "      <td>-0.369226</td>\n",
       "      <td>0.083081</td>\n",
       "      <td>0.018443</td>\n",
       "      <td>-0.549500</td>\n",
       "    </tr>\n",
       "    <tr>\n",
       "      <th>Age</th>\n",
       "      <td>0.036847</td>\n",
       "      <td>-0.077221</td>\n",
       "      <td>-0.369226</td>\n",
       "      <td>1.000000</td>\n",
       "      <td>-0.308247</td>\n",
       "      <td>-0.189119</td>\n",
       "      <td>0.096067</td>\n",
       "    </tr>\n",
       "    <tr>\n",
       "      <th>SibSp</th>\n",
       "      <td>-0.057527</td>\n",
       "      <td>-0.035322</td>\n",
       "      <td>0.083081</td>\n",
       "      <td>-0.308247</td>\n",
       "      <td>1.000000</td>\n",
       "      <td>0.414838</td>\n",
       "      <td>0.159651</td>\n",
       "    </tr>\n",
       "    <tr>\n",
       "      <th>Parch</th>\n",
       "      <td>-0.001652</td>\n",
       "      <td>0.081629</td>\n",
       "      <td>0.018443</td>\n",
       "      <td>-0.189119</td>\n",
       "      <td>0.414838</td>\n",
       "      <td>1.000000</td>\n",
       "      <td>0.216225</td>\n",
       "    </tr>\n",
       "    <tr>\n",
       "      <th>Fare</th>\n",
       "      <td>0.012658</td>\n",
       "      <td>0.257307</td>\n",
       "      <td>-0.549500</td>\n",
       "      <td>0.096067</td>\n",
       "      <td>0.159651</td>\n",
       "      <td>0.216225</td>\n",
       "      <td>1.000000</td>\n",
       "    </tr>\n",
       "  </tbody>\n",
       "</table>\n",
       "</div>"
      ],
      "text/plain": [
       "             PassengerId  Survived    Pclass       Age     SibSp     Parch  \\\n",
       "PassengerId     1.000000 -0.005007 -0.035144  0.036847 -0.057527 -0.001652   \n",
       "Survived       -0.005007  1.000000 -0.338481 -0.077221 -0.035322  0.081629   \n",
       "Pclass         -0.035144 -0.338481  1.000000 -0.369226  0.083081  0.018443   \n",
       "Age             0.036847 -0.077221 -0.369226  1.000000 -0.308247 -0.189119   \n",
       "SibSp          -0.057527 -0.035322  0.083081 -0.308247  1.000000  0.414838   \n",
       "Parch          -0.001652  0.081629  0.018443 -0.189119  0.414838  1.000000   \n",
       "Fare            0.012658  0.257307 -0.549500  0.096067  0.159651  0.216225   \n",
       "\n",
       "                 Fare  \n",
       "PassengerId  0.012658  \n",
       "Survived     0.257307  \n",
       "Pclass      -0.549500  \n",
       "Age          0.096067  \n",
       "SibSp        0.159651  \n",
       "Parch        0.216225  \n",
       "Fare         1.000000  "
      ]
     },
     "execution_count": 6,
     "metadata": {},
     "output_type": "execute_result"
    }
   ],
   "source": [
    "df.corr()"
   ]
  },
  {
   "cell_type": "code",
   "execution_count": 7,
   "metadata": {},
   "outputs": [
    {
     "data": {
      "text/plain": [
       "PassengerId      int64\n",
       "Survived         int64\n",
       "Pclass           int64\n",
       "Name            object\n",
       "Sex             object\n",
       "Age            float64\n",
       "SibSp            int64\n",
       "Parch            int64\n",
       "Ticket          object\n",
       "Fare           float64\n",
       "Cabin           object\n",
       "Embarked        object\n",
       "dtype: object"
      ]
     },
     "execution_count": 7,
     "metadata": {},
     "output_type": "execute_result"
    }
   ],
   "source": [
    "df.dtypes"
   ]
  },
  {
   "cell_type": "code",
   "execution_count": 8,
   "metadata": {},
   "outputs": [
    {
     "data": {
      "text/plain": [
       "PassengerId      0\n",
       "Survived         0\n",
       "Pclass           0\n",
       "Name             0\n",
       "Sex              0\n",
       "Age            177\n",
       "SibSp            0\n",
       "Parch            0\n",
       "Ticket           0\n",
       "Fare             0\n",
       "Cabin          687\n",
       "Embarked         2\n",
       "dtype: int64"
      ]
     },
     "execution_count": 8,
     "metadata": {},
     "output_type": "execute_result"
    }
   ],
   "source": [
    "df.isnull().sum()"
   ]
  },
  {
   "cell_type": "markdown",
   "metadata": {},
   "source": [
    "Let's group the data by sex and print the counts and what kind of values Sex has "
   ]
  },
  {
   "cell_type": "code",
   "execution_count": 9,
   "metadata": {},
   "outputs": [
    {
     "name": "stdout",
     "output_type": "stream",
     "text": [
      "Sex\n",
      "female    314\n",
      "male      577\n",
      "Name: PassengerId, dtype: int64\n"
     ]
    }
   ],
   "source": [
    "df_group_sex = df.groupby('Sex').count()['PassengerId']\n",
    "print(df_group_sex)"
   ]
  },
  {
   "cell_type": "code",
   "execution_count": 10,
   "metadata": {},
   "outputs": [
    {
     "data": {
      "text/plain": [
       "female    233\n",
       "male      109\n",
       "Name: Sex, dtype: int64"
      ]
     },
     "execution_count": 10,
     "metadata": {},
     "output_type": "execute_result"
    }
   ],
   "source": [
    "df_survived_group_sex = df['Sex'].loc[df['Survived'] == 1].value_counts()\n",
    "df_survived_group_sex"
   ]
  },
  {
   "attachments": {},
   "cell_type": "markdown",
   "metadata": {},
   "source": [
    "Visualize this aggregate"
   ]
  },
  {
   "cell_type": "code",
   "execution_count": 11,
   "metadata": {},
   "outputs": [
    {
     "data": {
      "image/png": "[encoded data removed]",
      "text/plain": [
       "<Figure size 1200x600 with 2 Axes>"
      ]
     },
     "metadata": {},
     "output_type": "display_data"
    }
   ],
   "source": [
    "plt.style.use('ggplot')\n",
    "fig, ax = plt.subplots(1, 2, figsize=(12, 6))\n",
    "ax[0].pie(df_group_sex, labels=df_group_sex.index, autopct='%.1f%%')\n",
    "ax[0].set_title('Passengers grouped by sex')\n",
    "ax[1].pie(df_survived_group_sex, labels=df_group_sex.index, autopct='%.1f%%')\n",
    "ax[1].set_title('Passengers who survived grouped by sex')\n",
    "plt.show()"
   ]
  },
  {
   "attachments": {},
   "cell_type": "markdown",
   "metadata": {},
   "source": [
    "Now by ticket class"
   ]
  },
  {
   "cell_type": "code",
   "execution_count": 12,
   "metadata": {},
   "outputs": [
    {
     "name": "stdout",
     "output_type": "stream",
     "text": [
      "Pclass\n",
      "1    216\n",
      "2    184\n",
      "3    491\n",
      "Name: PassengerId, dtype: int64\n"
     ]
    }
   ],
   "source": [
    "df_group_class = df.groupby('Pclass').count()['PassengerId']\n",
    "print(df_group_class)"
   ]
  },
  {
   "cell_type": "code",
   "execution_count": 13,
   "metadata": {},
   "outputs": [
    {
     "data": {
      "text/plain": [
       "1    136\n",
       "3    119\n",
       "2     87\n",
       "Name: Pclass, dtype: int64"
      ]
     },
     "execution_count": 13,
     "metadata": {},
     "output_type": "execute_result"
    }
   ],
   "source": [
    "df_survived_group_class = df['Pclass'].loc[df['Survived'] == 1].value_counts()\n",
    "df_survived_group_class"
   ]
  },
  {
   "cell_type": "markdown",
   "metadata": {},
   "source": [
    "Corresponding pie chart"
   ]
  },
  {
   "cell_type": "code",
   "execution_count": 14,
   "metadata": {},
   "outputs": [
    {
     "data": {
      "image/png": "[encoded data removed]",
      "text/plain": [
       "<Figure size 1200x600 with 1 Axes>"
      ]
     },
     "metadata": {},
     "output_type": "display_data"
    }
   ],
   "source": [
    "fig, ax = plt.subplots(1, 1, figsize= (12, 6))\n",
    "ax.pie(df_group_class, labels=['First', 'Second', 'Third'], autopct='%.1f%%')\n",
    "ax.set_title('Passengers grouped by ticket class')\n",
    "plt.show()"
   ]
  },
  {
   "attachments": {},
   "cell_type": "markdown",
   "metadata": {},
   "source": [
    "## Data cleaning"
   ]
  },
  {
   "cell_type": "markdown",
   "metadata": {},
   "source": [
    "Drop unique columns "
   ]
  },
  {
   "cell_type": "code",
   "execution_count": 15,
   "metadata": {},
   "outputs": [
    {
     "name": "stdout",
     "output_type": "stream",
     "text": [
      "After dropping unique value columns: (891, 12)\n"
     ]
    }
   ],
   "source": [
    "print(f'After dropping unique value columns: {df.shape}')\n",
    "# df = df.drop(['Name', 'Ticket', 'Cabin', 'PassengerId'], axis=1)\n",
    "# print(f'After dropping unique value columns: {df.shape}')"
   ]
  },
  {
   "cell_type": "markdown",
   "metadata": {},
   "source": [
    "Check if there's any null or NaN (Not a Number) value in the dataset "
   ]
  },
  {
   "cell_type": "code",
   "execution_count": 16,
   "metadata": {},
   "outputs": [
    {
     "data": {
      "text/plain": [
       "PassengerId      0\n",
       "Survived         0\n",
       "Pclass           0\n",
       "Name             0\n",
       "Sex              0\n",
       "Age            177\n",
       "SibSp            0\n",
       "Parch            0\n",
       "Ticket           0\n",
       "Fare             0\n",
       "Cabin          687\n",
       "Embarked         2\n",
       "dtype: int64"
      ]
     },
     "execution_count": 16,
     "metadata": {},
     "output_type": "execute_result"
    }
   ],
   "source": [
    "df.isnull().sum()"
   ]
  },
  {
   "cell_type": "markdown",
   "metadata": {},
   "source": [
    "Drop any rows with at least one column with null values"
   ]
  },
  {
   "attachments": {},
   "cell_type": "markdown",
   "metadata": {},
   "source": [
    "print(f'Before dropping rows: {df.shape}')\n",
    "df = df.dropna()\n",
    "print(f'After dropping rows: {df.shape}')"
   ]
  },
  {
   "cell_type": "markdown",
   "metadata": {},
   "source": [
    "Check again, should be less"
   ]
  },
  {
   "cell_type": "markdown",
   "metadata": {},
   "source": [
    "df.isnull().sum()"
   ]
  },
  {
   "attachments": {},
   "cell_type": "markdown",
   "metadata": {},
   "source": [
    "Scratch the upper cells, gonna test filling Age's null values with the median"
   ]
  },
  {
   "cell_type": "code",
   "execution_count": 17,
   "metadata": {},
   "outputs": [
    {
     "data": {
      "text/plain": [
       "23     28.0\n",
       "34     28.0\n",
       "83     28.0\n",
       "100    28.0\n",
       "105    28.0\n",
       "169    28.0\n",
       "200    28.0\n",
       "281    28.0\n",
       "313    28.0\n",
       "342    28.0\n",
       "355    28.0\n",
       "392    28.0\n",
       "399    28.0\n",
       "403    28.0\n",
       "423    28.0\n",
       "426    28.0\n",
       "430    28.0\n",
       "443    28.0\n",
       "508    28.0\n",
       "562    28.0\n",
       "635    28.0\n",
       "756    28.0\n",
       "848    28.0\n",
       "874    28.0\n",
       "883    28.0\n",
       "Name: Age, dtype: float64"
      ]
     },
     "execution_count": 17,
     "metadata": {},
     "output_type": "execute_result"
    }
   ],
   "source": [
    "df['Age'].loc[df['Age'] == 28]"
   ]
  },
  {
   "cell_type": "code",
   "execution_count": 18,
   "metadata": {},
   "outputs": [
    {
     "data": {
      "text/plain": [
       "28.0"
      ]
     },
     "execution_count": 18,
     "metadata": {},
     "output_type": "execute_result"
    }
   ],
   "source": [
    "df['Age'].median()"
   ]
  },
  {
   "cell_type": "code",
   "execution_count": 19,
   "metadata": {},
   "outputs": [],
   "source": [
    "df['Age'].fillna(df['Age'].median(), inplace=True)"
   ]
  },
  {
   "cell_type": "code",
   "execution_count": 20,
   "metadata": {},
   "outputs": [
    {
     "data": {
      "text/plain": [
       "5      28.0\n",
       "17     28.0\n",
       "19     28.0\n",
       "23     28.0\n",
       "26     28.0\n",
       "       ... \n",
       "868    28.0\n",
       "874    28.0\n",
       "878    28.0\n",
       "883    28.0\n",
       "888    28.0\n",
       "Name: Age, Length: 202, dtype: float64"
      ]
     },
     "execution_count": 20,
     "metadata": {},
     "output_type": "execute_result"
    }
   ],
   "source": [
    "df['Age'].loc[df['Age'] == 28]"
   ]
  },
  {
   "cell_type": "code",
   "execution_count": 21,
   "metadata": {},
   "outputs": [
    {
     "data": {
      "text/plain": [
       "PassengerId      0\n",
       "Survived         0\n",
       "Pclass           0\n",
       "Name             0\n",
       "Sex              0\n",
       "Age              0\n",
       "SibSp            0\n",
       "Parch            0\n",
       "Ticket           0\n",
       "Fare             0\n",
       "Cabin          687\n",
       "Embarked         2\n",
       "dtype: int64"
      ]
     },
     "execution_count": 21,
     "metadata": {},
     "output_type": "execute_result"
    }
   ],
   "source": [
    "df.isnull().sum()"
   ]
  },
  {
   "cell_type": "code",
   "execution_count": 22,
   "metadata": {},
   "outputs": [],
   "source": [
    "embarked_common_value = df['Embarked'].value_counts().index[0]"
   ]
  },
  {
   "cell_type": "code",
   "execution_count": 23,
   "metadata": {},
   "outputs": [],
   "source": [
    "df['Embarked'].fillna(embarked_common_value, inplace=True)"
   ]
  },
  {
   "cell_type": "code",
   "execution_count": 24,
   "metadata": {},
   "outputs": [],
   "source": [
    "df['Cabin'].fillna('null', inplace=True)"
   ]
  },
  {
   "cell_type": "code",
   "execution_count": 25,
   "metadata": {},
   "outputs": [
    {
     "data": {
      "text/plain": [
       "PassengerId    0\n",
       "Survived       0\n",
       "Pclass         0\n",
       "Name           0\n",
       "Sex            0\n",
       "Age            0\n",
       "SibSp          0\n",
       "Parch          0\n",
       "Ticket         0\n",
       "Fare           0\n",
       "Cabin          0\n",
       "Embarked       0\n",
       "dtype: int64"
      ]
     },
     "execution_count": 25,
     "metadata": {},
     "output_type": "execute_result"
    }
   ],
   "source": [
    "df.isnull().sum()"
   ]
  },
  {
   "attachments": {},
   "cell_type": "markdown",
   "metadata": {},
   "source": [
    "## Feature Engineering"
   ]
  },
  {
   "cell_type": "markdown",
   "metadata": {},
   "source": [
    "We can extract even more useful information from seemingly unique columns like name, ticket and cabin"
   ]
  },
  {
   "attachments": {},
   "cell_type": "markdown",
   "metadata": {},
   "source": [
    "- Name: Each person has a title in his name column we can extract this and use the new column in our predictions"
   ]
  },
  {
   "cell_type": "code",
   "execution_count": 26,
   "metadata": {},
   "outputs": [
    {
     "data": {
      "text/plain": [
       "0                                Braund, Mr. Owen Harris\n",
       "1      Cumings, Mrs. John Bradley (Florence Briggs Th...\n",
       "2                                 Heikkinen, Miss. Laina\n",
       "3           Futrelle, Mrs. Jacques Heath (Lily May Peel)\n",
       "4                               Allen, Mr. William Henry\n",
       "                             ...                        \n",
       "886                                Montvila, Rev. Juozas\n",
       "887                         Graham, Miss. Margaret Edith\n",
       "888             Johnston, Miss. Catherine Helen \"Carrie\"\n",
       "889                                Behr, Mr. Karl Howell\n",
       "890                                  Dooley, Mr. Patrick\n",
       "Name: Name, Length: 891, dtype: object"
      ]
     },
     "execution_count": 26,
     "metadata": {},
     "output_type": "execute_result"
    }
   ],
   "source": [
    "df['Name']"
   ]
  },
  {
   "cell_type": "code",
   "execution_count": 27,
   "metadata": {},
   "outputs": [],
   "source": [
    "text = 'Braund, Mr. Owen Harris'"
   ]
  },
  {
   "cell_type": "code",
   "execution_count": 28,
   "metadata": {},
   "outputs": [
    {
     "data": {
      "text/plain": [
       "'Mr'"
      ]
     },
     "execution_count": 28,
     "metadata": {},
     "output_type": "execute_result"
    }
   ],
   "source": [
    "text.split(', ')[1].split('.')[0]"
   ]
  },
  {
   "cell_type": "code",
   "execution_count": 29,
   "metadata": {},
   "outputs": [
    {
     "data": {
      "text/plain": [
       "PassengerId      int64\n",
       "Survived         int64\n",
       "Pclass           int64\n",
       "Name            object\n",
       "Sex             object\n",
       "Age            float64\n",
       "SibSp            int64\n",
       "Parch            int64\n",
       "Ticket          object\n",
       "Fare           float64\n",
       "Cabin           object\n",
       "Embarked        object\n",
       "dtype: object"
      ]
     },
     "execution_count": 29,
     "metadata": {},
     "output_type": "execute_result"
    }
   ],
   "source": [
    "df.dtypes"
   ]
  },
  {
   "cell_type": "code",
   "execution_count": 30,
   "metadata": {},
   "outputs": [
    {
     "data": {
      "text/plain": [
       "'Mrs'"
      ]
     },
     "execution_count": 30,
     "metadata": {},
     "output_type": "execute_result"
    }
   ],
   "source": [
    "str(df['Name'].iloc[1]).split(', ')[1].split('.')[0]"
   ]
  },
  {
   "cell_type": "code",
   "execution_count": 31,
   "metadata": {},
   "outputs": [
    {
     "name": "stdout",
     "output_type": "stream",
     "text": [
      "Mr\n",
      "Mrs\n",
      "Miss\n",
      "Mrs\n",
      "Mr\n",
      "Mr\n",
      "Mr\n",
      "Master\n",
      "Mrs\n",
      "Mrs\n",
      "Miss\n",
      "Miss\n",
      "Mr\n",
      "Mr\n",
      "Miss\n",
      "Mrs\n",
      "Master\n",
      "Mr\n",
      "Mrs\n",
      "Mrs\n",
      "Mr\n",
      "Mr\n"
     ]
    }
   ],
   "source": [
    "for i in range(df['Name'].shape[0]):\n",
    "    print(str(df['Name'].iloc[i]).split(', ')[1].split('.')[0])\n",
    "    if i > 20:\n",
    "        break"
   ]
  },
  {
   "cell_type": "code",
   "execution_count": 32,
   "metadata": {},
   "outputs": [
    {
     "name": "stderr",
     "output_type": "stream",
     "text": [
      "C:\\Users\\Brahyam Almonte Ruiz\\AppData\\Local\\Temp\\ipykernel_17280\\1836765641.py:3: SettingWithCopyWarning: \n",
      "A value is trying to be set on a copy of a slice from a DataFrame\n",
      "\n",
      "See the caveats in the documentation: https://pandas.pydata.org/pandas-docs/stable/user_guide/indexing.html#returning-a-view-versus-a-copy\n",
      "  df['Title'].iloc[i] = str(df['Name'].iloc[i]).split(', ')[1].split('.')[0]\n"
     ]
    }
   ],
   "source": [
    "df['Title'] = np.nan\n",
    "for i in range(df['Name'].shape[0]):\n",
    "    df['Title'].iloc[i] = str(df['Name'].iloc[i]).split(', ')[1].split('.')[0]"
   ]
  },
  {
   "cell_type": "code",
   "execution_count": 33,
   "metadata": {},
   "outputs": [
    {
     "data": {
      "text/plain": [
       "Mr              517\n",
       "Miss            182\n",
       "Mrs             125\n",
       "Master           40\n",
       "Dr                7\n",
       "Rev               6\n",
       "Mlle              2\n",
       "Major             2\n",
       "Col               2\n",
       "the Countess      1\n",
       "Capt              1\n",
       "Ms                1\n",
       "Sir               1\n",
       "Lady              1\n",
       "Mme               1\n",
       "Don               1\n",
       "Jonkheer          1\n",
       "Name: Title, dtype: int64"
      ]
     },
     "execution_count": 33,
     "metadata": {},
     "output_type": "execute_result"
    }
   ],
   "source": [
    "df['Title'].value_counts()"
   ]
  },
  {
   "cell_type": "code",
   "execution_count": 34,
   "metadata": {},
   "outputs": [
    {
     "data": {
      "text/plain": [
       "null           687\n",
       "C23 C25 C27      4\n",
       "G6               4\n",
       "B96 B98          4\n",
       "C22 C26          3\n",
       "              ... \n",
       "E34              1\n",
       "C7               1\n",
       "C54              1\n",
       "E36              1\n",
       "C148             1\n",
       "Name: Cabin, Length: 148, dtype: int64"
      ]
     },
     "execution_count": 34,
     "metadata": {},
     "output_type": "execute_result"
    }
   ],
   "source": [
    "df['Cabin'].value_counts()"
   ]
  },
  {
   "cell_type": "code",
   "execution_count": 35,
   "metadata": {},
   "outputs": [
    {
     "data": {
      "text/plain": [
       "'C'"
      ]
     },
     "execution_count": 35,
     "metadata": {},
     "output_type": "execute_result"
    }
   ],
   "source": [
    "df['Cabin'].iloc[1][0]"
   ]
  },
  {
   "cell_type": "code",
   "execution_count": 36,
   "metadata": {},
   "outputs": [
    {
     "data": {
      "text/plain": [
       "False"
      ]
     },
     "execution_count": 36,
     "metadata": {},
     "output_type": "execute_result"
    }
   ],
   "source": [
    "df['Cabin'].isnull()[0]"
   ]
  },
  {
   "cell_type": "code",
   "execution_count": 37,
   "metadata": {},
   "outputs": [
    {
     "name": "stderr",
     "output_type": "stream",
     "text": [
      "C:\\Users\\Brahyam Almonte Ruiz\\AppData\\Local\\Temp\\ipykernel_17280\\1480018329.py:4: SettingWithCopyWarning: \n",
      "A value is trying to be set on a copy of a slice from a DataFrame\n",
      "\n",
      "See the caveats in the documentation: https://pandas.pydata.org/pandas-docs/stable/user_guide/indexing.html#returning-a-view-versus-a-copy\n",
      "  df['Cabin_Letter'].iloc[i] = df['Cabin'].iloc[i][0]\n"
     ]
    }
   ],
   "source": [
    "df['Cabin_Letter'] = np.nan\n",
    "for i in range(df['Cabin'].shape[0]):\n",
    "    if df['Cabin'].isnull()[i] == False:\n",
    "        df['Cabin_Letter'].iloc[i] = df['Cabin'].iloc[i][0]"
   ]
  },
  {
   "cell_type": "code",
   "execution_count": 38,
   "metadata": {},
   "outputs": [
    {
     "data": {
      "text/plain": [
       "n    687\n",
       "C     59\n",
       "B     47\n",
       "D     33\n",
       "E     32\n",
       "A     15\n",
       "F     13\n",
       "G      4\n",
       "T      1\n",
       "Name: Cabin_Letter, dtype: int64"
      ]
     },
     "execution_count": 38,
     "metadata": {},
     "output_type": "execute_result"
    }
   ],
   "source": [
    "df['Cabin_Letter'].value_counts()"
   ]
  },
  {
   "cell_type": "code",
   "execution_count": 39,
   "metadata": {},
   "outputs": [
    {
     "data": {
      "text/plain": [
       "PassengerId     0\n",
       "Survived        0\n",
       "Pclass          0\n",
       "Name            0\n",
       "Sex             0\n",
       "Age             0\n",
       "SibSp           0\n",
       "Parch           0\n",
       "Ticket          0\n",
       "Fare            0\n",
       "Cabin           0\n",
       "Embarked        0\n",
       "Title           0\n",
       "Cabin_Letter    0\n",
       "dtype: int64"
      ]
     },
     "execution_count": 39,
     "metadata": {},
     "output_type": "execute_result"
    }
   ],
   "source": [
    "df.isnull().sum()"
   ]
  },
  {
   "cell_type": "code",
   "execution_count": 40,
   "metadata": {},
   "outputs": [
    {
     "data": {
      "text/plain": [
       "WE/P 5735      2\n",
       "W/C 14208      1\n",
       "W.E.P. 5734    1\n",
       "W./C. 6609     1\n",
       "W./C. 6608     4\n",
       "              ..\n",
       "110813         1\n",
       "110564         1\n",
       "110465         2\n",
       "110413         3\n",
       "110152         3\n",
       "Name: Ticket, Length: 681, dtype: int64"
      ]
     },
     "execution_count": 40,
     "metadata": {},
     "output_type": "execute_result"
    }
   ],
   "source": [
    "df['Ticket'].value_counts().sort_index(ascending=False)"
   ]
  },
  {
   "cell_type": "markdown",
   "metadata": {},
   "source": [
    "## Data transformation"
   ]
  },
  {
   "cell_type": "markdown",
   "metadata": {},
   "source": [
    "Let's check again the ranges of the numerical data"
   ]
  },
  {
   "cell_type": "code",
   "execution_count": 41,
   "metadata": {},
   "outputs": [
    {
     "data": {
      "text/html": [
       "<div>\n",
       "<style scoped>\n",
       "    .dataframe tbody tr th:only-of-type {\n",
       "        vertical-align: middle;\n",
       "    }\n",
       "\n",
       "    .dataframe tbody tr th {\n",
       "        vertical-align: top;\n",
       "    }\n",
       "\n",
       "    .dataframe thead th {\n",
       "        text-align: right;\n",
       "    }\n",
       "</style>\n",
       "<table border=\"1\" class=\"dataframe\">\n",
       "  <thead>\n",
       "    <tr style=\"text-align: right;\">\n",
       "      <th></th>\n",
       "      <th>PassengerId</th>\n",
       "      <th>Survived</th>\n",
       "      <th>Pclass</th>\n",
       "      <th>Age</th>\n",
       "      <th>SibSp</th>\n",
       "      <th>Parch</th>\n",
       "      <th>Fare</th>\n",
       "    </tr>\n",
       "  </thead>\n",
       "  <tbody>\n",
       "    <tr>\n",
       "      <th>count</th>\n",
       "      <td>891.000000</td>\n",
       "      <td>891.000000</td>\n",
       "      <td>891.000000</td>\n",
       "      <td>891.000000</td>\n",
       "      <td>891.000000</td>\n",
       "      <td>891.000000</td>\n",
       "      <td>891.000000</td>\n",
       "    </tr>\n",
       "    <tr>\n",
       "      <th>mean</th>\n",
       "      <td>446.000000</td>\n",
       "      <td>0.383838</td>\n",
       "      <td>2.308642</td>\n",
       "      <td>29.361582</td>\n",
       "      <td>0.523008</td>\n",
       "      <td>0.381594</td>\n",
       "      <td>32.204208</td>\n",
       "    </tr>\n",
       "    <tr>\n",
       "      <th>std</th>\n",
       "      <td>257.353842</td>\n",
       "      <td>0.486592</td>\n",
       "      <td>0.836071</td>\n",
       "      <td>13.019697</td>\n",
       "      <td>1.102743</td>\n",
       "      <td>0.806057</td>\n",
       "      <td>49.693429</td>\n",
       "    </tr>\n",
       "    <tr>\n",
       "      <th>min</th>\n",
       "      <td>1.000000</td>\n",
       "      <td>0.000000</td>\n",
       "      <td>1.000000</td>\n",
       "      <td>0.420000</td>\n",
       "      <td>0.000000</td>\n",
       "      <td>0.000000</td>\n",
       "      <td>0.000000</td>\n",
       "    </tr>\n",
       "    <tr>\n",
       "      <th>25%</th>\n",
       "      <td>223.500000</td>\n",
       "      <td>0.000000</td>\n",
       "      <td>2.000000</td>\n",
       "      <td>22.000000</td>\n",
       "      <td>0.000000</td>\n",
       "      <td>0.000000</td>\n",
       "      <td>7.910400</td>\n",
       "    </tr>\n",
       "    <tr>\n",
       "      <th>50%</th>\n",
       "      <td>446.000000</td>\n",
       "      <td>0.000000</td>\n",
       "      <td>3.000000</td>\n",
       "      <td>28.000000</td>\n",
       "      <td>0.000000</td>\n",
       "      <td>0.000000</td>\n",
       "      <td>14.454200</td>\n",
       "    </tr>\n",
       "    <tr>\n",
       "      <th>75%</th>\n",
       "      <td>668.500000</td>\n",
       "      <td>1.000000</td>\n",
       "      <td>3.000000</td>\n",
       "      <td>35.000000</td>\n",
       "      <td>1.000000</td>\n",
       "      <td>0.000000</td>\n",
       "      <td>31.000000</td>\n",
       "    </tr>\n",
       "    <tr>\n",
       "      <th>max</th>\n",
       "      <td>891.000000</td>\n",
       "      <td>1.000000</td>\n",
       "      <td>3.000000</td>\n",
       "      <td>80.000000</td>\n",
       "      <td>8.000000</td>\n",
       "      <td>6.000000</td>\n",
       "      <td>512.329200</td>\n",
       "    </tr>\n",
       "  </tbody>\n",
       "</table>\n",
       "</div>"
      ],
      "text/plain": [
       "       PassengerId    Survived      Pclass         Age       SibSp  \\\n",
       "count   891.000000  891.000000  891.000000  891.000000  891.000000   \n",
       "mean    446.000000    0.383838    2.308642   29.361582    0.523008   \n",
       "std     257.353842    0.486592    0.836071   13.019697    1.102743   \n",
       "min       1.000000    0.000000    1.000000    0.420000    0.000000   \n",
       "25%     223.500000    0.000000    2.000000   22.000000    0.000000   \n",
       "50%     446.000000    0.000000    3.000000   28.000000    0.000000   \n",
       "75%     668.500000    1.000000    3.000000   35.000000    1.000000   \n",
       "max     891.000000    1.000000    3.000000   80.000000    8.000000   \n",
       "\n",
       "            Parch        Fare  \n",
       "count  891.000000  891.000000  \n",
       "mean     0.381594   32.204208  \n",
       "std      0.806057   49.693429  \n",
       "min      0.000000    0.000000  \n",
       "25%      0.000000    7.910400  \n",
       "50%      0.000000   14.454200  \n",
       "75%      0.000000   31.000000  \n",
       "max      6.000000  512.329200  "
      ]
     },
     "execution_count": 41,
     "metadata": {},
     "output_type": "execute_result"
    }
   ],
   "source": [
    "df.describe()"
   ]
  },
  {
   "attachments": {},
   "cell_type": "markdown",
   "metadata": {},
   "source": [
    "Age and Fare have a big range of values we should normalize the data by removing the mean and dividing the value by the standard deviation"
   ]
  },
  {
   "cell_type": "code",
   "execution_count": 42,
   "metadata": {},
   "outputs": [
    {
     "data": {
      "text/plain": [
       "(891,)"
      ]
     },
     "execution_count": 42,
     "metadata": {},
     "output_type": "execute_result"
    }
   ],
   "source": [
    "df['Age'].shape"
   ]
  },
  {
   "attachments": {},
   "cell_type": "markdown",
   "metadata": {},
   "source": [
    "We need to passthrough a (n, n) array to the scaler not an (n,) array, so we're going to reshape the pandas series with `df['Age'].values.reshape((-1,1))`"
   ]
  },
  {
   "cell_type": "code",
   "execution_count": 43,
   "metadata": {},
   "outputs": [],
   "source": [
    "age_scaler = StandardScaler()\n",
    "fare_scaler = StandardScaler()\n",
    "df['Age'] = age_scaler.fit_transform(df['Age'].values.reshape(-1, 1))\n",
    "df['Fare'] = fare_scaler.fit_transform(df['Fare'].values.reshape(-1, 1))"
   ]
  },
  {
   "attachments": {},
   "cell_type": "markdown",
   "metadata": {},
   "source": [
    "Check the results, Age and Fare should be a value between 1 and -1 "
   ]
  },
  {
   "cell_type": "code",
   "execution_count": 44,
   "metadata": {},
   "outputs": [
    {
     "data": {
      "text/html": [
       "<div>\n",
       "<style scoped>\n",
       "    .dataframe tbody tr th:only-of-type {\n",
       "        vertical-align: middle;\n",
       "    }\n",
       "\n",
       "    .dataframe tbody tr th {\n",
       "        vertical-align: top;\n",
       "    }\n",
       "\n",
       "    .dataframe thead th {\n",
       "        text-align: right;\n",
       "    }\n",
       "</style>\n",
       "<table border=\"1\" class=\"dataframe\">\n",
       "  <thead>\n",
       "    <tr style=\"text-align: right;\">\n",
       "      <th></th>\n",
       "      <th>PassengerId</th>\n",
       "      <th>Survived</th>\n",
       "      <th>Pclass</th>\n",
       "      <th>Name</th>\n",
       "      <th>Sex</th>\n",
       "      <th>Age</th>\n",
       "      <th>SibSp</th>\n",
       "      <th>Parch</th>\n",
       "      <th>Ticket</th>\n",
       "      <th>Fare</th>\n",
       "      <th>Cabin</th>\n",
       "      <th>Embarked</th>\n",
       "      <th>Title</th>\n",
       "      <th>Cabin_Letter</th>\n",
       "    </tr>\n",
       "  </thead>\n",
       "  <tbody>\n",
       "    <tr>\n",
       "      <th>0</th>\n",
       "      <td>1</td>\n",
       "      <td>0</td>\n",
       "      <td>3</td>\n",
       "      <td>Braund, Mr. Owen Harris</td>\n",
       "      <td>male</td>\n",
       "      <td>-0.565736</td>\n",
       "      <td>1</td>\n",
       "      <td>0</td>\n",
       "      <td>A/5 21171</td>\n",
       "      <td>-0.502445</td>\n",
       "      <td>null</td>\n",
       "      <td>S</td>\n",
       "      <td>Mr</td>\n",
       "      <td>n</td>\n",
       "    </tr>\n",
       "    <tr>\n",
       "      <th>1</th>\n",
       "      <td>2</td>\n",
       "      <td>1</td>\n",
       "      <td>1</td>\n",
       "      <td>Cumings, Mrs. John Bradley (Florence Briggs Th...</td>\n",
       "      <td>female</td>\n",
       "      <td>0.663861</td>\n",
       "      <td>1</td>\n",
       "      <td>0</td>\n",
       "      <td>PC 17599</td>\n",
       "      <td>0.786845</td>\n",
       "      <td>C85</td>\n",
       "      <td>C</td>\n",
       "      <td>Mrs</td>\n",
       "      <td>C</td>\n",
       "    </tr>\n",
       "    <tr>\n",
       "      <th>2</th>\n",
       "      <td>3</td>\n",
       "      <td>1</td>\n",
       "      <td>3</td>\n",
       "      <td>Heikkinen, Miss. Laina</td>\n",
       "      <td>female</td>\n",
       "      <td>-0.258337</td>\n",
       "      <td>0</td>\n",
       "      <td>0</td>\n",
       "      <td>STON/O2. 3101282</td>\n",
       "      <td>-0.488854</td>\n",
       "      <td>null</td>\n",
       "      <td>S</td>\n",
       "      <td>Miss</td>\n",
       "      <td>n</td>\n",
       "    </tr>\n",
       "    <tr>\n",
       "      <th>3</th>\n",
       "      <td>4</td>\n",
       "      <td>1</td>\n",
       "      <td>1</td>\n",
       "      <td>Futrelle, Mrs. Jacques Heath (Lily May Peel)</td>\n",
       "      <td>female</td>\n",
       "      <td>0.433312</td>\n",
       "      <td>1</td>\n",
       "      <td>0</td>\n",
       "      <td>113803</td>\n",
       "      <td>0.420730</td>\n",
       "      <td>C123</td>\n",
       "      <td>S</td>\n",
       "      <td>Mrs</td>\n",
       "      <td>C</td>\n",
       "    </tr>\n",
       "    <tr>\n",
       "      <th>4</th>\n",
       "      <td>5</td>\n",
       "      <td>0</td>\n",
       "      <td>3</td>\n",
       "      <td>Allen, Mr. William Henry</td>\n",
       "      <td>male</td>\n",
       "      <td>0.433312</td>\n",
       "      <td>0</td>\n",
       "      <td>0</td>\n",
       "      <td>373450</td>\n",
       "      <td>-0.486337</td>\n",
       "      <td>null</td>\n",
       "      <td>S</td>\n",
       "      <td>Mr</td>\n",
       "      <td>n</td>\n",
       "    </tr>\n",
       "  </tbody>\n",
       "</table>\n",
       "</div>"
      ],
      "text/plain": [
       "   PassengerId  Survived  Pclass  \\\n",
       "0            1         0       3   \n",
       "1            2         1       1   \n",
       "2            3         1       3   \n",
       "3            4         1       1   \n",
       "4            5         0       3   \n",
       "\n",
       "                                                Name     Sex       Age  SibSp  \\\n",
       "0                            Braund, Mr. Owen Harris    male -0.565736      1   \n",
       "1  Cumings, Mrs. John Bradley (Florence Briggs Th...  female  0.663861      1   \n",
       "2                             Heikkinen, Miss. Laina  female -0.258337      0   \n",
       "3       Futrelle, Mrs. Jacques Heath (Lily May Peel)  female  0.433312      1   \n",
       "4                           Allen, Mr. William Henry    male  0.433312      0   \n",
       "\n",
       "   Parch            Ticket      Fare Cabin Embarked Title Cabin_Letter  \n",
       "0      0         A/5 21171 -0.502445  null        S    Mr            n  \n",
       "1      0          PC 17599  0.786845   C85        C   Mrs            C  \n",
       "2      0  STON/O2. 3101282 -0.488854  null        S  Miss            n  \n",
       "3      0            113803  0.420730  C123        S   Mrs            C  \n",
       "4      0            373450 -0.486337  null        S    Mr            n  "
      ]
     },
     "execution_count": 44,
     "metadata": {},
     "output_type": "execute_result"
    }
   ],
   "source": [
    "df.head()"
   ]
  },
  {
   "attachments": {},
   "cell_type": "markdown",
   "metadata": {},
   "source": [
    "The 'Sex' and 'Embarked' columns are categorical features we should encode them in order to use them, first let's check the values"
   ]
  },
  {
   "cell_type": "code",
   "execution_count": 45,
   "metadata": {},
   "outputs": [
    {
     "name": "stdout",
     "output_type": "stream",
     "text": [
      "Sex Column: \n",
      "male      577\n",
      "female    314\n",
      "Name: Sex, dtype: int64\n",
      "\n",
      "Embarked Column: \n",
      "S    646\n",
      "C    168\n",
      "Q     77\n",
      "Name: Embarked, dtype: int64\n",
      "\n",
      "Title Column: \n",
      "Mr              517\n",
      "Miss            182\n",
      "Mrs             125\n",
      "Master           40\n",
      "Dr                7\n",
      "Rev               6\n",
      "Mlle              2\n",
      "Major             2\n",
      "Col               2\n",
      "the Countess      1\n",
      "Capt              1\n",
      "Ms                1\n",
      "Sir               1\n",
      "Lady              1\n",
      "Mme               1\n",
      "Don               1\n",
      "Jonkheer          1\n",
      "Name: Title, dtype: int64\n",
      "\n",
      "Cabin_Letter Column: \n",
      "S    646\n",
      "C    168\n",
      "Q     77\n",
      "Name: Embarked, dtype: int64\n"
     ]
    }
   ],
   "source": [
    "print(f'Sex Column: \\n{df.Sex.value_counts()}\\n')\n",
    "print(f'Embarked Column: \\n{df.Embarked.value_counts()}\\n')\n",
    "print(f'Title Column: \\n{df.Title.value_counts()}\\n')\n",
    "print(f'Cabin_Letter Column: \\n{df.Embarked.value_counts()}')"
   ]
  },
  {
   "cell_type": "markdown",
   "metadata": {},
   "source": [
    "Now let's encode the Sex and Embarked values as Binary and Label Enconded columns, in order to make the value male -> 0 and female -> 1, and the same with all embarked values"
   ]
  },
  {
   "cell_type": "code",
   "execution_count": 46,
   "metadata": {},
   "outputs": [],
   "source": [
    "# Create the encoders based on the LabelEncoder class from tensorflow \n",
    "sex_encoder = LabelEncoder()\n",
    "embarked_encoder = LabelEncoder()\n",
    "title_encoder = LabelEncoder()\n",
    "cabin_letter_encoder = LabelEncoder()\n",
    "# Fit(configure the encoder) and transform(actually make the changes) in a single step\n",
    "df['Sex'] = sex_encoder.fit_transform(df['Sex'])\n",
    "df['Embarked'] = embarked_encoder.fit_transform(df['Embarked'])\n",
    "df['Title'] = title_encoder.fit_transform(df['Title'])\n",
    "df['Cabin_Letter'] = cabin_letter_encoder.fit_transform(df['Cabin_Letter'])"
   ]
  },
  {
   "attachments": {},
   "cell_type": "markdown",
   "metadata": {},
   "source": [
    "In order to understand the values, let's create some variables based in the encoders"
   ]
  },
  {
   "cell_type": "code",
   "execution_count": 47,
   "metadata": {},
   "outputs": [],
   "source": [
    "sex_encoder_classes = sex_encoder.classes_\n",
    "embarked_encoder_classes = embarked_encoder.classes_\n",
    "title_encoder_classes = title_encoder.classes_\n",
    "sex_encoder_values = sex_encoder.transform(list(sex_encoder.classes_))\n",
    "embarked_encoder_values = embarked_encoder.transform(list(embarked_encoder.classes_))\n",
    "title_encoder_values = title_encoder.transform(list(title_encoder.classes_))"
   ]
  },
  {
   "cell_type": "code",
   "execution_count": 48,
   "metadata": {},
   "outputs": [
    {
     "name": "stdout",
     "output_type": "stream",
     "text": [
      "Original Sex values: ['female' 'male']\n",
      "Enconded Sex values: [0 1]\n",
      "Original Embarked values: ['C' 'Q' 'S']\n",
      "Enconded Embarked values: [0 1 2]\n",
      "Original Title values: ['Capt' 'Col' 'Don' 'Dr' 'Jonkheer' 'Lady' 'Major' 'Master' 'Miss' 'Mlle'\n",
      " 'Mme' 'Mr' 'Mrs' 'Ms' 'Rev' 'Sir' 'the Countess']\n",
      "Enconded Title values: [ 0  1  2  3  4  5  6  7  8  9 10 11 12 13 14 15 16]\n"
     ]
    }
   ],
   "source": [
    "print(f'Original Sex values: {sex_encoder_classes}\\nEnconded Sex values: {sex_encoder_values}')\n",
    "print(f'Original Embarked values: {embarked_encoder_classes}\\nEnconded Embarked values: {embarked_encoder_values}')\n",
    "print(f'Original Title values: {title_encoder_classes}\\nEnconded Title values: {title_encoder_values}')"
   ]
  },
  {
   "cell_type": "markdown",
   "metadata": {},
   "source": [
    "Let's create two dictionaries with the corresponding values"
   ]
  },
  {
   "cell_type": "code",
   "execution_count": 49,
   "metadata": {},
   "outputs": [
    {
     "data": {
      "text/plain": [
       "{'female': 0, 'male': 1}"
      ]
     },
     "execution_count": 49,
     "metadata": {},
     "output_type": "execute_result"
    }
   ],
   "source": [
    "sex_encoder_dict = {}\n",
    "for i in range(len(sex_encoder_classes)):\n",
    "    sex_encoder_dict[sex_encoder_classes[i]] = sex_encoder_values[i]\n",
    "sex_encoder_dict"
   ]
  },
  {
   "cell_type": "code",
   "execution_count": 50,
   "metadata": {},
   "outputs": [
    {
     "data": {
      "text/plain": [
       "{'C': 0, 'Q': 1, 'S': 2}"
      ]
     },
     "execution_count": 50,
     "metadata": {},
     "output_type": "execute_result"
    }
   ],
   "source": [
    "embarked_encoder_dict = {}\n",
    "for i in range(len(embarked_encoder_classes)):\n",
    "    embarked_encoder_dict[embarked_encoder_classes[i]] = embarked_encoder_values[i]\n",
    "embarked_encoder_dict"
   ]
  },
  {
   "cell_type": "markdown",
   "metadata": {},
   "source": [
    "Check our final dataframe "
   ]
  },
  {
   "cell_type": "code",
   "execution_count": 51,
   "metadata": {},
   "outputs": [
    {
     "data": {
      "text/html": [
       "<div>\n",
       "<style scoped>\n",
       "    .dataframe tbody tr th:only-of-type {\n",
       "        vertical-align: middle;\n",
       "    }\n",
       "\n",
       "    .dataframe tbody tr th {\n",
       "        vertical-align: top;\n",
       "    }\n",
       "\n",
       "    .dataframe thead th {\n",
       "        text-align: right;\n",
       "    }\n",
       "</style>\n",
       "<table border=\"1\" class=\"dataframe\">\n",
       "  <thead>\n",
       "    <tr style=\"text-align: right;\">\n",
       "      <th></th>\n",
       "      <th>PassengerId</th>\n",
       "      <th>Survived</th>\n",
       "      <th>Pclass</th>\n",
       "      <th>Name</th>\n",
       "      <th>Sex</th>\n",
       "      <th>Age</th>\n",
       "      <th>SibSp</th>\n",
       "      <th>Parch</th>\n",
       "      <th>Ticket</th>\n",
       "      <th>Fare</th>\n",
       "      <th>Cabin</th>\n",
       "      <th>Embarked</th>\n",
       "      <th>Title</th>\n",
       "      <th>Cabin_Letter</th>\n",
       "    </tr>\n",
       "  </thead>\n",
       "  <tbody>\n",
       "    <tr>\n",
       "      <th>0</th>\n",
       "      <td>1</td>\n",
       "      <td>0</td>\n",
       "      <td>3</td>\n",
       "      <td>Braund, Mr. Owen Harris</td>\n",
       "      <td>1</td>\n",
       "      <td>-0.565736</td>\n",
       "      <td>1</td>\n",
       "      <td>0</td>\n",
       "      <td>A/5 21171</td>\n",
       "      <td>-0.502445</td>\n",
       "      <td>null</td>\n",
       "      <td>2</td>\n",
       "      <td>11</td>\n",
       "      <td>8</td>\n",
       "    </tr>\n",
       "    <tr>\n",
       "      <th>1</th>\n",
       "      <td>2</td>\n",
       "      <td>1</td>\n",
       "      <td>1</td>\n",
       "      <td>Cumings, Mrs. John Bradley (Florence Briggs Th...</td>\n",
       "      <td>0</td>\n",
       "      <td>0.663861</td>\n",
       "      <td>1</td>\n",
       "      <td>0</td>\n",
       "      <td>PC 17599</td>\n",
       "      <td>0.786845</td>\n",
       "      <td>C85</td>\n",
       "      <td>0</td>\n",
       "      <td>12</td>\n",
       "      <td>2</td>\n",
       "    </tr>\n",
       "    <tr>\n",
       "      <th>2</th>\n",
       "      <td>3</td>\n",
       "      <td>1</td>\n",
       "      <td>3</td>\n",
       "      <td>Heikkinen, Miss. Laina</td>\n",
       "      <td>0</td>\n",
       "      <td>-0.258337</td>\n",
       "      <td>0</td>\n",
       "      <td>0</td>\n",
       "      <td>STON/O2. 3101282</td>\n",
       "      <td>-0.488854</td>\n",
       "      <td>null</td>\n",
       "      <td>2</td>\n",
       "      <td>8</td>\n",
       "      <td>8</td>\n",
       "    </tr>\n",
       "    <tr>\n",
       "      <th>3</th>\n",
       "      <td>4</td>\n",
       "      <td>1</td>\n",
       "      <td>1</td>\n",
       "      <td>Futrelle, Mrs. Jacques Heath (Lily May Peel)</td>\n",
       "      <td>0</td>\n",
       "      <td>0.433312</td>\n",
       "      <td>1</td>\n",
       "      <td>0</td>\n",
       "      <td>113803</td>\n",
       "      <td>0.420730</td>\n",
       "      <td>C123</td>\n",
       "      <td>2</td>\n",
       "      <td>12</td>\n",
       "      <td>2</td>\n",
       "    </tr>\n",
       "    <tr>\n",
       "      <th>4</th>\n",
       "      <td>5</td>\n",
       "      <td>0</td>\n",
       "      <td>3</td>\n",
       "      <td>Allen, Mr. William Henry</td>\n",
       "      <td>1</td>\n",
       "      <td>0.433312</td>\n",
       "      <td>0</td>\n",
       "      <td>0</td>\n",
       "      <td>373450</td>\n",
       "      <td>-0.486337</td>\n",
       "      <td>null</td>\n",
       "      <td>2</td>\n",
       "      <td>11</td>\n",
       "      <td>8</td>\n",
       "    </tr>\n",
       "  </tbody>\n",
       "</table>\n",
       "</div>"
      ],
      "text/plain": [
       "   PassengerId  Survived  Pclass  \\\n",
       "0            1         0       3   \n",
       "1            2         1       1   \n",
       "2            3         1       3   \n",
       "3            4         1       1   \n",
       "4            5         0       3   \n",
       "\n",
       "                                                Name  Sex       Age  SibSp  \\\n",
       "0                            Braund, Mr. Owen Harris    1 -0.565736      1   \n",
       "1  Cumings, Mrs. John Bradley (Florence Briggs Th...    0  0.663861      1   \n",
       "2                             Heikkinen, Miss. Laina    0 -0.258337      0   \n",
       "3       Futrelle, Mrs. Jacques Heath (Lily May Peel)    0  0.433312      1   \n",
       "4                           Allen, Mr. William Henry    1  0.433312      0   \n",
       "\n",
       "   Parch            Ticket      Fare Cabin  Embarked  Title  Cabin_Letter  \n",
       "0      0         A/5 21171 -0.502445  null         2     11             8  \n",
       "1      0          PC 17599  0.786845   C85         0     12             2  \n",
       "2      0  STON/O2. 3101282 -0.488854  null         2      8             8  \n",
       "3      0            113803  0.420730  C123         2     12             2  \n",
       "4      0            373450 -0.486337  null         2     11             8  "
      ]
     },
     "execution_count": 51,
     "metadata": {},
     "output_type": "execute_result"
    }
   ],
   "source": [
    "df.head()"
   ]
  },
  {
   "cell_type": "code",
   "execution_count": 52,
   "metadata": {},
   "outputs": [
    {
     "data": {
      "text/plain": [
       "PassengerId       int64\n",
       "Survived          int64\n",
       "Pclass            int64\n",
       "Name             object\n",
       "Sex               int32\n",
       "Age             float64\n",
       "SibSp             int64\n",
       "Parch             int64\n",
       "Ticket           object\n",
       "Fare            float64\n",
       "Cabin            object\n",
       "Embarked          int32\n",
       "Title             int32\n",
       "Cabin_Letter      int32\n",
       "dtype: object"
      ]
     },
     "execution_count": 52,
     "metadata": {},
     "output_type": "execute_result"
    }
   ],
   "source": [
    "df.dtypes"
   ]
  },
  {
   "attachments": {},
   "cell_type": "markdown",
   "metadata": {},
   "source": [
    "## Build the Model"
   ]
  },
  {
   "attachments": {},
   "cell_type": "markdown",
   "metadata": {},
   "source": [
    "We need to separate the features from the label or target "
   ]
  },
  {
   "cell_type": "code",
   "execution_count": 53,
   "metadata": {},
   "outputs": [
    {
     "data": {
      "text/plain": [
       "Index(['PassengerId', 'Survived', 'Pclass', 'Name', 'Sex', 'Age', 'SibSp',\n",
       "       'Parch', 'Ticket', 'Fare', 'Cabin', 'Embarked', 'Title',\n",
       "       'Cabin_Letter'],\n",
       "      dtype='object')"
      ]
     },
     "execution_count": 53,
     "metadata": {},
     "output_type": "execute_result"
    }
   ],
   "source": [
    "# List all the columns\n",
    "df.columns"
   ]
  },
  {
   "attachments": {},
   "cell_type": "markdown",
   "metadata": {},
   "source": [
    "Create the two lists and with them, the two dataframes"
   ]
  },
  {
   "cell_type": "code",
   "execution_count": 54,
   "metadata": {},
   "outputs": [],
   "source": [
    "# features = ['Pclass', 'Sex', 'Age', 'SibSp', 'Parch', 'Fare', 'Embarked', 'Title', 'Cabin_Letter']\n",
    "features = ['Pclass', 'Sex', 'Age', 'SibSp', 'Parch', 'Fare','Embarked', 'Title', 'Cabin_Letter']\n",
    "label = 'Survived'"
   ]
  },
  {
   "cell_type": "markdown",
   "metadata": {},
   "source": [
    "The x dataframe contains the features and the y dataframe the labels "
   ]
  },
  {
   "cell_type": "code",
   "execution_count": 55,
   "metadata": {},
   "outputs": [],
   "source": [
    "x = df[features]\n",
    "y = df[label]"
   ]
  },
  {
   "cell_type": "markdown",
   "metadata": {},
   "source": [
    "Split each dataframe in 3 parts, train, cross validation and test "
   ]
  },
  {
   "cell_type": "code",
   "execution_count": 56,
   "metadata": {},
   "outputs": [
    {
     "name": "stdout",
     "output_type": "stream",
     "text": [
      "X_train.shape (534, 9) y_train.shape (534,)\n",
      "X_cv.shape (178, 9) y_cv.shape (178,)\n",
      "X_test.shape (179, 9) y_test.shape (179,)\n"
     ]
    }
   ],
   "source": [
    "x_train, x_, y_train, y_ = train_test_split(x, y, test_size=0.40, random_state=1, shuffle=True)\n",
    "x_cv, x_test, y_cv, y_test = train_test_split(x_, y_, test_size=0.50, random_state=1, shuffle=True)\n",
    "print(\"X_train.shape\", x_train.shape, \"y_train.shape\", y_train.shape)\n",
    "print(\"X_cv.shape\", x_cv.shape, \"y_cv.shape\", y_cv.shape)\n",
    "print(\"X_test.shape\", x_test.shape, \"y_test.shape\", y_test.shape)"
   ]
  },
  {
   "cell_type": "code",
   "execution_count": 57,
   "metadata": {},
   "outputs": [
    {
     "name": "stdout",
     "output_type": "stream",
     "text": [
      "[0]\tvalidation_0-logloss:0.64544\n",
      "[1]\tvalidation_0-logloss:0.60476\n",
      "[2]\tvalidation_0-logloss:0.57360\n",
      "[3]\tvalidation_0-logloss:0.54830\n",
      "[4]\tvalidation_0-logloss:0.52629\n",
      "[5]\tvalidation_0-logloss:0.51015\n",
      "[6]\tvalidation_0-logloss:0.49616\n",
      "[7]\tvalidation_0-logloss:0.48537\n",
      "[8]\tvalidation_0-logloss:0.47454\n",
      "[9]\tvalidation_0-logloss:0.46770\n",
      "[10]\tvalidation_0-logloss:0.46218\n",
      "[11]\tvalidation_0-logloss:0.45736\n",
      "[12]\tvalidation_0-logloss:0.45406\n",
      "[13]\tvalidation_0-logloss:0.45000\n",
      "[14]\tvalidation_0-logloss:0.44681\n",
      "[15]\tvalidation_0-logloss:0.44361\n",
      "[16]\tvalidation_0-logloss:0.44110\n",
      "[17]\tvalidation_0-logloss:0.44021\n",
      "[18]\tvalidation_0-logloss:0.43868\n",
      "[19]\tvalidation_0-logloss:0.43888\n",
      "[20]\tvalidation_0-logloss:0.43586\n",
      "[21]\tvalidation_0-logloss:0.43370\n",
      "[22]\tvalidation_0-logloss:0.43199\n",
      "[23]\tvalidation_0-logloss:0.43001\n",
      "[24]\tvalidation_0-logloss:0.42811\n",
      "[25]\tvalidation_0-logloss:0.42835\n",
      "[26]\tvalidation_0-logloss:0.42805\n",
      "[27]\tvalidation_0-logloss:0.42702\n",
      "[28]\tvalidation_0-logloss:0.42755\n",
      "[29]\tvalidation_0-logloss:0.42757\n",
      "[30]\tvalidation_0-logloss:0.42731\n",
      "[31]\tvalidation_0-logloss:0.42783\n",
      "[32]\tvalidation_0-logloss:0.42973\n",
      "[33]\tvalidation_0-logloss:0.43114\n",
      "[34]\tvalidation_0-logloss:0.43415\n",
      "[35]\tvalidation_0-logloss:0.43469\n",
      "[36]\tvalidation_0-logloss:0.43496\n",
      "[37]\tvalidation_0-logloss:0.43602\n",
      "[38]\tvalidation_0-logloss:0.43706\n",
      "[39]\tvalidation_0-logloss:0.43909\n",
      "[40]\tvalidation_0-logloss:0.44054\n",
      "[41]\tvalidation_0-logloss:0.44164\n",
      "[42]\tvalidation_0-logloss:0.44331\n",
      "[43]\tvalidation_0-logloss:0.44511\n",
      "[44]\tvalidation_0-logloss:0.44563\n",
      "[45]\tvalidation_0-logloss:0.44804\n",
      "[46]\tvalidation_0-logloss:0.45033\n",
      "[47]\tvalidation_0-logloss:0.45090\n",
      "[48]\tvalidation_0-logloss:0.45179\n",
      "[49]\tvalidation_0-logloss:0.45229\n",
      "[50]\tvalidation_0-logloss:0.45348\n",
      "[51]\tvalidation_0-logloss:0.45427\n",
      "[52]\tvalidation_0-logloss:0.45634\n",
      "[53]\tvalidation_0-logloss:0.45796\n",
      "[54]\tvalidation_0-logloss:0.45860\n",
      "[55]\tvalidation_0-logloss:0.45926\n",
      "[56]\tvalidation_0-logloss:0.45895\n",
      "[57]\tvalidation_0-logloss:0.46015\n",
      "[58]\tvalidation_0-logloss:0.46182\n",
      "[59]\tvalidation_0-logloss:0.46172\n",
      "[60]\tvalidation_0-logloss:0.46367\n",
      "[61]\tvalidation_0-logloss:0.46321\n",
      "[62]\tvalidation_0-logloss:0.46315\n",
      "[63]\tvalidation_0-logloss:0.46389\n",
      "[64]\tvalidation_0-logloss:0.46450\n",
      "[65]\tvalidation_0-logloss:0.46432\n",
      "[66]\tvalidation_0-logloss:0.46314\n",
      "[67]\tvalidation_0-logloss:0.46339\n",
      "[68]\tvalidation_0-logloss:0.46267\n",
      "[69]\tvalidation_0-logloss:0.46340\n",
      "[70]\tvalidation_0-logloss:0.46347\n",
      "[71]\tvalidation_0-logloss:0.46544\n",
      "[72]\tvalidation_0-logloss:0.46624\n",
      "[73]\tvalidation_0-logloss:0.46716\n",
      "[74]\tvalidation_0-logloss:0.46800\n",
      "[75]\tvalidation_0-logloss:0.46868\n",
      "[76]\tvalidation_0-logloss:0.46987\n",
      "[77]\tvalidation_0-logloss:0.47047\n",
      "[78]\tvalidation_0-logloss:0.47188\n",
      "[79]\tvalidation_0-logloss:0.47179\n",
      "[80]\tvalidation_0-logloss:0.47195\n",
      "[81]\tvalidation_0-logloss:0.47153\n",
      "[82]\tvalidation_0-logloss:0.47340\n",
      "[83]\tvalidation_0-logloss:0.47601\n",
      "[84]\tvalidation_0-logloss:0.47580\n",
      "[85]\tvalidation_0-logloss:0.47780\n",
      "[86]\tvalidation_0-logloss:0.47923\n",
      "[87]\tvalidation_0-logloss:0.48122\n",
      "[88]\tvalidation_0-logloss:0.48029\n",
      "[89]\tvalidation_0-logloss:0.47950\n",
      "[90]\tvalidation_0-logloss:0.48091\n",
      "[91]\tvalidation_0-logloss:0.48126\n",
      "[92]\tvalidation_0-logloss:0.48183\n",
      "[93]\tvalidation_0-logloss:0.48140\n",
      "[94]\tvalidation_0-logloss:0.48134\n",
      "[95]\tvalidation_0-logloss:0.48291\n",
      "[96]\tvalidation_0-logloss:0.48363\n",
      "[97]\tvalidation_0-logloss:0.48351\n",
      "[98]\tvalidation_0-logloss:0.48451\n",
      "[99]\tvalidation_0-logloss:0.48442\n",
      "[100]\tvalidation_0-logloss:0.48494\n",
      "[101]\tvalidation_0-logloss:0.48553\n",
      "[102]\tvalidation_0-logloss:0.48604\n",
      "[103]\tvalidation_0-logloss:0.48583\n",
      "[104]\tvalidation_0-logloss:0.48639\n",
      "[105]\tvalidation_0-logloss:0.48693\n",
      "[106]\tvalidation_0-logloss:0.48848\n",
      "[107]\tvalidation_0-logloss:0.48904\n",
      "[108]\tvalidation_0-logloss:0.49138\n",
      "[109]\tvalidation_0-logloss:0.49317\n",
      "[110]\tvalidation_0-logloss:0.49515\n",
      "[111]\tvalidation_0-logloss:0.49676\n",
      "[112]\tvalidation_0-logloss:0.49666\n",
      "[113]\tvalidation_0-logloss:0.49792\n",
      "[114]\tvalidation_0-logloss:0.49772\n",
      "[115]\tvalidation_0-logloss:0.49876\n",
      "[116]\tvalidation_0-logloss:0.50090\n",
      "[117]\tvalidation_0-logloss:0.50228\n",
      "[118]\tvalidation_0-logloss:0.50308\n",
      "[119]\tvalidation_0-logloss:0.50419\n",
      "[120]\tvalidation_0-logloss:0.50587\n",
      "[121]\tvalidation_0-logloss:0.50669\n",
      "[122]\tvalidation_0-logloss:0.50802\n",
      "[123]\tvalidation_0-logloss:0.50862\n",
      "[124]\tvalidation_0-logloss:0.50930\n",
      "[125]\tvalidation_0-logloss:0.51093\n",
      "[126]\tvalidation_0-logloss:0.51343\n",
      "[127]\tvalidation_0-logloss:0.51462\n",
      "[128]\tvalidation_0-logloss:0.51518\n",
      "[129]\tvalidation_0-logloss:0.51582\n",
      "[130]\tvalidation_0-logloss:0.51726\n",
      "[131]\tvalidation_0-logloss:0.51774\n",
      "[132]\tvalidation_0-logloss:0.51927\n",
      "[133]\tvalidation_0-logloss:0.51961\n",
      "[134]\tvalidation_0-logloss:0.52030\n",
      "[135]\tvalidation_0-logloss:0.52017\n",
      "[136]\tvalidation_0-logloss:0.52198\n",
      "[137]\tvalidation_0-logloss:0.52260\n",
      "[138]\tvalidation_0-logloss:0.52351\n",
      "[139]\tvalidation_0-logloss:0.52372\n",
      "[140]\tvalidation_0-logloss:0.52536\n",
      "[141]\tvalidation_0-logloss:0.52561\n",
      "[142]\tvalidation_0-logloss:0.52775\n",
      "[143]\tvalidation_0-logloss:0.52877\n",
      "[144]\tvalidation_0-logloss:0.53096\n",
      "[145]\tvalidation_0-logloss:0.53262\n",
      "[146]\tvalidation_0-logloss:0.53472\n",
      "[147]\tvalidation_0-logloss:0.53568\n",
      "[148]\tvalidation_0-logloss:0.53554\n",
      "[149]\tvalidation_0-logloss:0.53638\n",
      "[150]\tvalidation_0-logloss:0.53718\n",
      "[151]\tvalidation_0-logloss:0.53766\n",
      "[152]\tvalidation_0-logloss:0.53848\n",
      "[153]\tvalidation_0-logloss:0.53929\n",
      "[154]\tvalidation_0-logloss:0.54023\n",
      "[155]\tvalidation_0-logloss:0.53990\n",
      "[156]\tvalidation_0-logloss:0.53981\n",
      "[157]\tvalidation_0-logloss:0.54044\n",
      "[158]\tvalidation_0-logloss:0.54068\n",
      "[159]\tvalidation_0-logloss:0.54123\n",
      "[160]\tvalidation_0-logloss:0.54129\n",
      "[161]\tvalidation_0-logloss:0.54116\n",
      "[162]\tvalidation_0-logloss:0.54085\n",
      "[163]\tvalidation_0-logloss:0.54140\n",
      "[164]\tvalidation_0-logloss:0.54206\n",
      "[165]\tvalidation_0-logloss:0.54312\n",
      "[166]\tvalidation_0-logloss:0.54345\n",
      "[167]\tvalidation_0-logloss:0.54329\n",
      "[168]\tvalidation_0-logloss:0.54324\n",
      "[169]\tvalidation_0-logloss:0.54349\n",
      "[170]\tvalidation_0-logloss:0.54403\n",
      "[171]\tvalidation_0-logloss:0.54484\n",
      "[172]\tvalidation_0-logloss:0.54458\n",
      "[173]\tvalidation_0-logloss:0.54439\n",
      "[174]\tvalidation_0-logloss:0.54578\n",
      "[175]\tvalidation_0-logloss:0.54657\n",
      "[176]\tvalidation_0-logloss:0.54777\n",
      "[177]\tvalidation_0-logloss:0.54745\n",
      "[178]\tvalidation_0-logloss:0.54866\n",
      "[179]\tvalidation_0-logloss:0.54829\n",
      "[180]\tvalidation_0-logloss:0.54836\n",
      "[181]\tvalidation_0-logloss:0.54975\n",
      "[182]\tvalidation_0-logloss:0.55020\n",
      "[183]\tvalidation_0-logloss:0.55042\n",
      "[184]\tvalidation_0-logloss:0.55113\n",
      "[185]\tvalidation_0-logloss:0.55177\n",
      "[186]\tvalidation_0-logloss:0.55189\n"
     ]
    },
    {
     "data": {
      "text/html": [
       "<style>#sk-container-id-1 {color: black;background-color: white;}#sk-container-id-1 pre{padding: 0;}#sk-container-id-1 div.sk-toggleable {background-color: white;}#sk-container-id-1 label.sk-toggleable__label {cursor: pointer;display: block;width: 100%;margin-bottom: 0;padding: 0.3em;box-sizing: border-box;text-align: center;}#sk-container-id-1 label.sk-toggleable__label-arrow:before {content: \"▸\";float: left;margin-right: 0.25em;color: #696969;}#sk-container-id-1 label.sk-toggleable__label-arrow:hover:before {color: black;}#sk-container-id-1 div.sk-estimator:hover label.sk-toggleable__label-arrow:before {color: black;}#sk-container-id-1 div.sk-toggleable__content {max-height: 0;max-width: 0;overflow: hidden;text-align: left;background-color: #f0f8ff;}#sk-container-id-1 div.sk-toggleable__content pre {margin: 0.2em;color: black;border-radius: 0.25em;background-color: #f0f8ff;}#sk-container-id-1 input.sk-toggleable__control:checked~div.sk-toggleable__content {max-height: 200px;max-width: 100%;overflow: auto;}#sk-container-id-1 input.sk-toggleable__control:checked~label.sk-toggleable__label-arrow:before {content: \"▾\";}#sk-container-id-1 div.sk-estimator input.sk-toggleable__control:checked~label.sk-toggleable__label {background-color: #d4ebff;}#sk-container-id-1 div.sk-label input.sk-toggleable__control:checked~label.sk-toggleable__label {background-color: #d4ebff;}#sk-container-id-1 input.sk-hidden--visually {border: 0;clip: rect(1px 1px 1px 1px);clip: rect(1px, 1px, 1px, 1px);height: 1px;margin: -1px;overflow: hidden;padding: 0;position: absolute;width: 1px;}#sk-container-id-1 div.sk-estimator {font-family: monospace;background-color: #f0f8ff;border: 1px dotted black;border-radius: 0.25em;box-sizing: border-box;margin-bottom: 0.5em;}#sk-container-id-1 div.sk-estimator:hover {background-color: #d4ebff;}#sk-container-id-1 div.sk-parallel-item::after {content: \"\";width: 100%;border-bottom: 1px solid gray;flex-grow: 1;}#sk-container-id-1 div.sk-label:hover label.sk-toggleable__label {background-color: #d4ebff;}#sk-container-id-1 div.sk-serial::before {content: \"\";position: absolute;border-left: 1px solid gray;box-sizing: border-box;top: 0;bottom: 0;left: 50%;z-index: 0;}#sk-container-id-1 div.sk-serial {display: flex;flex-direction: column;align-items: center;background-color: white;padding-right: 0.2em;padding-left: 0.2em;position: relative;}#sk-container-id-1 div.sk-item {position: relative;z-index: 1;}#sk-container-id-1 div.sk-parallel {display: flex;align-items: stretch;justify-content: center;background-color: white;position: relative;}#sk-container-id-1 div.sk-item::before, #sk-container-id-1 div.sk-parallel-item::before {content: \"\";position: absolute;border-left: 1px solid gray;box-sizing: border-box;top: 0;bottom: 0;left: 50%;z-index: -1;}#sk-container-id-1 div.sk-parallel-item {display: flex;flex-direction: column;z-index: 1;position: relative;background-color: white;}#sk-container-id-1 div.sk-parallel-item:first-child::after {align-self: flex-end;width: 50%;}#sk-container-id-1 div.sk-parallel-item:last-child::after {align-self: flex-start;width: 50%;}#sk-container-id-1 div.sk-parallel-item:only-child::after {width: 0;}#sk-container-id-1 div.sk-dashed-wrapped {border: 1px dashed gray;margin: 0 0.4em 0.5em 0.4em;box-sizing: border-box;padding-bottom: 0.4em;background-color: white;}#sk-container-id-1 div.sk-label label {font-family: monospace;font-weight: bold;display: inline-block;line-height: 1.2em;}#sk-container-id-1 div.sk-label-container {text-align: center;}#sk-container-id-1 div.sk-container {/* jupyter's `normalize.less` sets `[hidden] { display: none; }` but bootstrap.min.css set `[hidden] { display: none !important; }` so we also need the `!important` here to be able to override the default hidden behavior on the sphinx rendered scikit-learn.org. See: https://github.com/scikit-learn/scikit-learn/issues/21755 */display: inline-block !important;position: relative;}#sk-container-id-1 div.sk-text-repr-fallback {display: none;}</style><div id=\"sk-container-id-1\" class=\"sk-top-container\"><div class=\"sk-text-repr-fallback\"><pre>XGBClassifier(base_score=None, booster=None, callbacks=None,\n",
       "              colsample_bylevel=None, colsample_bynode=None,\n",
       "              colsample_bytree=None, early_stopping_rounds=160,\n",
       "              enable_categorical=False, eval_metric=None, feature_types=None,\n",
       "              gamma=None, gpu_id=None, grow_policy=None, importance_type=None,\n",
       "              interaction_constraints=None, learning_rate=0.1, max_bin=None,\n",
       "              max_cat_threshold=None, max_cat_to_onehot=None,\n",
       "              max_delta_step=None, max_depth=None, max_leaves=None,\n",
       "              min_child_weight=None, missing=nan, monotone_constraints=None,\n",
       "              n_estimators=400, n_jobs=None, num_parallel_tree=None,\n",
       "              predictor=None, random_state=1, ...)</pre><b>In a Jupyter environment, please rerun this cell to show the HTML representation or trust the notebook. <br />On GitHub, the HTML representation is unable to render, please try loading this page with nbviewer.org.</b></div><div class=\"sk-container\" hidden><div class=\"sk-item\"><div class=\"sk-estimator sk-toggleable\"><input class=\"sk-toggleable__control sk-hidden--visually\" id=\"sk-estimator-id-1\" type=\"checkbox\" checked><label for=\"sk-estimator-id-1\" class=\"sk-toggleable__label sk-toggleable__label-arrow\">XGBClassifier</label><div class=\"sk-toggleable__content\"><pre>XGBClassifier(base_score=None, booster=None, callbacks=None,\n",
       "              colsample_bylevel=None, colsample_bynode=None,\n",
       "              colsample_bytree=None, early_stopping_rounds=160,\n",
       "              enable_categorical=False, eval_metric=None, feature_types=None,\n",
       "              gamma=None, gpu_id=None, grow_policy=None, importance_type=None,\n",
       "              interaction_constraints=None, learning_rate=0.1, max_bin=None,\n",
       "              max_cat_threshold=None, max_cat_to_onehot=None,\n",
       "              max_delta_step=None, max_depth=None, max_leaves=None,\n",
       "              min_child_weight=None, missing=nan, monotone_constraints=None,\n",
       "              n_estimators=400, n_jobs=None, num_parallel_tree=None,\n",
       "              predictor=None, random_state=1, ...)</pre></div></div></div></div></div>"
      ],
      "text/plain": [
       "XGBClassifier(base_score=None, booster=None, callbacks=None,\n",
       "              colsample_bylevel=None, colsample_bynode=None,\n",
       "              colsample_bytree=None, early_stopping_rounds=160,\n",
       "              enable_categorical=False, eval_metric=None, feature_types=None,\n",
       "              gamma=None, gpu_id=None, grow_policy=None, importance_type=None,\n",
       "              interaction_constraints=None, learning_rate=0.1, max_bin=None,\n",
       "              max_cat_threshold=None, max_cat_to_onehot=None,\n",
       "              max_delta_step=None, max_depth=None, max_leaves=None,\n",
       "              min_child_weight=None, missing=nan, monotone_constraints=None,\n",
       "              n_estimators=400, n_jobs=None, num_parallel_tree=None,\n",
       "              predictor=None, random_state=1, ...)"
      ]
     },
     "execution_count": 57,
     "metadata": {},
     "output_type": "execute_result"
    }
   ],
   "source": [
    "# model = XGBClassifier(n_estimators=400, learning_rate=0.1, verbosity=1, random_state=1, early_stopping_rounds=160)\n",
    "\n",
    "model.fit(x_train, y_train, eval_set=[(x_cv, y_cv)])"
   ]
  },
  {
   "cell_type": "code",
   "execution_count": 58,
   "metadata": {},
   "outputs": [
    {
     "name": "stdout",
     "output_type": "stream",
     "text": [
      "Best iteration: 27 \n",
      "logistic loss score: 0.4270190494030379\n"
     ]
    }
   ],
   "source": [
    "print(f'Best iteration: {model.best_iteration} \\nlogistic loss score: {model.best_score}')"
   ]
  },
  {
   "cell_type": "code",
   "execution_count": 59,
   "metadata": {},
   "outputs": [
    {
     "name": "stdout",
     "output_type": "stream",
     "text": [
      "Metrics\n",
      "Accuracy in the train dataset: 0.9138576779026217\n",
      "Accuracy in the cross validation dataset: 0.8089887640449438\n",
      "Accuracy in the test dataset: 0.776536312849162\n",
      "Confusion matrix of the test dataset:\n",
      "[[86  7]\n",
      " [33 53]]\n",
      "Mean Squared Error: 0.22346368715083798\n",
      "F1 Score: 0.7260273972602739\n",
      "Precision Score: 0.8833333333333333\n",
      "Recall Score: 0.6162790697674418\n",
      "Precision, Recall, f1_score: (array([0.72268908, 0.88333333]), array([0.92473118, 0.61627907]), array([0.81132075, 0.7260274 ]), array([93, 86], dtype=int64))\n"
     ]
    }
   ],
   "source": [
    "print('Metrics')\n",
    "print(f'Accuracy in the train dataset: {accuracy_score(model.predict(x_train), y_train)}')\n",
    "print(f'Accuracy in the cross validation dataset: {accuracy_score(model.predict(x_cv), y_cv)}')\n",
    "print(f'Accuracy in the test dataset: {accuracy_score(model.predict(x_test), y_test)}')\n",
    "print(f'Confusion matrix of the test dataset:\\n{confusion_matrix(y_test, model.predict(x_test))}')\n",
    "print(f'Mean Squared Error: {mean_squared_error(y_test, model.predict(x_test))}')\n",
    "print(f'F1 Score: {f1_score(y_test, model.predict(x_test))}')\n",
    "print(f'Precision Score: {precision_score(y_test, model.predict(x_test))}')\n",
    "print(f'Recall Score: {recall_score(y_test, model.predict(x_test))}')\n",
    "print(f'Precision, Recall, f1_score: {precision_recall_fscore_support(y_test, model.predict(x_test))}')"
   ]
  },
  {
   "attachments": {},
   "cell_type": "markdown",
   "metadata": {},
   "source": [
    "Let's try it without a cross validation set: "
   ]
  },
  {
   "cell_type": "code",
   "execution_count": 60,
   "metadata": {},
   "outputs": [
    {
     "name": "stdout",
     "output_type": "stream",
     "text": [
      "X_train.shape (712, 9) y_train.shape (712,)\n",
      "X_test.shape (179, 9) y_test.shape (179,)\n"
     ]
    }
   ],
   "source": [
    "x_train, x_, y_train, y_ = train_test_split(x, y, test_size=0.20, random_state=1, shuffle=True)\n",
    "# x_cv, x_test, y_cv, y_test = train_test_split(x_, y_, test_size=0.50, random_state=1, shuffle=True)\n",
    "print(\"X_train.shape\", x_train.shape, \"y_train.shape\", y_train.shape)\n",
    "# print(\"X_cv.shape\", x_cv.shape, \"y_cv.shape\", y_cv.shape)\n",
    "print(\"X_test.shape\", x_.shape, \"y_test.shape\", y_.shape)"
   ]
  },
  {
   "cell_type": "code",
   "execution_count": 61,
   "metadata": {},
   "outputs": [
    {
     "name": "stdout",
     "output_type": "stream",
     "text": [
      "[0]\tvalidation_0-logloss:0.65177\n",
      "[1]\tvalidation_0-logloss:0.61767\n",
      "[2]\tvalidation_0-logloss:0.59065\n",
      "[3]\tvalidation_0-logloss:0.56710\n",
      "[4]\tvalidation_0-logloss:0.54884\n",
      "[5]\tvalidation_0-logloss:0.53203\n",
      "[6]\tvalidation_0-logloss:0.51877\n",
      "[7]\tvalidation_0-logloss:0.50689\n",
      "[8]\tvalidation_0-logloss:0.49763\n",
      "[9]\tvalidation_0-logloss:0.49038\n",
      "[10]\tvalidation_0-logloss:0.48381\n",
      "[11]\tvalidation_0-logloss:0.48063\n",
      "[12]\tvalidation_0-logloss:0.47388\n",
      "[13]\tvalidation_0-logloss:0.47013\n",
      "[14]\tvalidation_0-logloss:0.46742\n",
      "[15]\tvalidation_0-logloss:0.46618\n",
      "[16]\tvalidation_0-logloss:0.46602\n",
      "[17]\tvalidation_0-logloss:0.46481\n",
      "[18]\tvalidation_0-logloss:0.46272\n",
      "[19]\tvalidation_0-logloss:0.46240\n",
      "[20]\tvalidation_0-logloss:0.46144\n",
      "[21]\tvalidation_0-logloss:0.46329\n",
      "[22]\tvalidation_0-logloss:0.46473\n",
      "[23]\tvalidation_0-logloss:0.46408\n",
      "[24]\tvalidation_0-logloss:0.46766\n",
      "[25]\tvalidation_0-logloss:0.46969\n",
      "[26]\tvalidation_0-logloss:0.47195\n",
      "[27]\tvalidation_0-logloss:0.47190\n",
      "[28]\tvalidation_0-logloss:0.47478\n",
      "[29]\tvalidation_0-logloss:0.47547\n",
      "[30]\tvalidation_0-logloss:0.47764\n",
      "[31]\tvalidation_0-logloss:0.47847\n",
      "[32]\tvalidation_0-logloss:0.47938\n",
      "[33]\tvalidation_0-logloss:0.47963\n",
      "[34]\tvalidation_0-logloss:0.47992\n",
      "[35]\tvalidation_0-logloss:0.48127\n",
      "[36]\tvalidation_0-logloss:0.48224\n",
      "[37]\tvalidation_0-logloss:0.48364\n",
      "[38]\tvalidation_0-logloss:0.48394\n",
      "[39]\tvalidation_0-logloss:0.48588\n",
      "[40]\tvalidation_0-logloss:0.48711\n",
      "[41]\tvalidation_0-logloss:0.48964\n",
      "[42]\tvalidation_0-logloss:0.49111\n",
      "[43]\tvalidation_0-logloss:0.48623\n",
      "[44]\tvalidation_0-logloss:0.48629\n",
      "[45]\tvalidation_0-logloss:0.48689\n",
      "[46]\tvalidation_0-logloss:0.48835\n",
      "[47]\tvalidation_0-logloss:0.48407\n",
      "[48]\tvalidation_0-logloss:0.48381\n",
      "[49]\tvalidation_0-logloss:0.48448\n",
      "[50]\tvalidation_0-logloss:0.48473\n",
      "[51]\tvalidation_0-logloss:0.48719\n",
      "[52]\tvalidation_0-logloss:0.48713\n",
      "[53]\tvalidation_0-logloss:0.48792\n",
      "[54]\tvalidation_0-logloss:0.49004\n",
      "[55]\tvalidation_0-logloss:0.49040\n",
      "[56]\tvalidation_0-logloss:0.49015\n",
      "[57]\tvalidation_0-logloss:0.49098\n",
      "[58]\tvalidation_0-logloss:0.49156\n",
      "[59]\tvalidation_0-logloss:0.49413\n",
      "[60]\tvalidation_0-logloss:0.49279\n",
      "[61]\tvalidation_0-logloss:0.49286\n",
      "[62]\tvalidation_0-logloss:0.49412\n",
      "[63]\tvalidation_0-logloss:0.49458\n",
      "[64]\tvalidation_0-logloss:0.49475\n",
      "[65]\tvalidation_0-logloss:0.49646\n",
      "[66]\tvalidation_0-logloss:0.49911\n",
      "[67]\tvalidation_0-logloss:0.49914\n",
      "[68]\tvalidation_0-logloss:0.49987\n",
      "[69]\tvalidation_0-logloss:0.50221\n",
      "[70]\tvalidation_0-logloss:0.50307\n",
      "[71]\tvalidation_0-logloss:0.50333\n",
      "[72]\tvalidation_0-logloss:0.50481\n",
      "[73]\tvalidation_0-logloss:0.50481\n",
      "[74]\tvalidation_0-logloss:0.50602\n",
      "[75]\tvalidation_0-logloss:0.50404\n",
      "[76]\tvalidation_0-logloss:0.50326\n",
      "[77]\tvalidation_0-logloss:0.50412\n",
      "[78]\tvalidation_0-logloss:0.50496\n",
      "[79]\tvalidation_0-logloss:0.50516\n",
      "[80]\tvalidation_0-logloss:0.50714\n",
      "[81]\tvalidation_0-logloss:0.50879\n",
      "[82]\tvalidation_0-logloss:0.51014\n",
      "[83]\tvalidation_0-logloss:0.51183\n",
      "[84]\tvalidation_0-logloss:0.51265\n",
      "[85]\tvalidation_0-logloss:0.51292\n",
      "[86]\tvalidation_0-logloss:0.51377\n",
      "[87]\tvalidation_0-logloss:0.51434\n",
      "[88]\tvalidation_0-logloss:0.51336\n",
      "[89]\tvalidation_0-logloss:0.51427\n",
      "[90]\tvalidation_0-logloss:0.51372\n",
      "[91]\tvalidation_0-logloss:0.51371\n",
      "[92]\tvalidation_0-logloss:0.51292\n",
      "[93]\tvalidation_0-logloss:0.51428\n",
      "[94]\tvalidation_0-logloss:0.51412\n",
      "[95]\tvalidation_0-logloss:0.51416\n",
      "[96]\tvalidation_0-logloss:0.51480\n",
      "[97]\tvalidation_0-logloss:0.51496\n",
      "[98]\tvalidation_0-logloss:0.51454\n",
      "[99]\tvalidation_0-logloss:0.51667\n",
      "[100]\tvalidation_0-logloss:0.51661\n",
      "[101]\tvalidation_0-logloss:0.51676\n",
      "[102]\tvalidation_0-logloss:0.51733\n",
      "[103]\tvalidation_0-logloss:0.51743\n",
      "[104]\tvalidation_0-logloss:0.51937\n",
      "[105]\tvalidation_0-logloss:0.51936\n",
      "[106]\tvalidation_0-logloss:0.51948\n",
      "[107]\tvalidation_0-logloss:0.52208\n",
      "[108]\tvalidation_0-logloss:0.52262\n",
      "[109]\tvalidation_0-logloss:0.52179\n",
      "[110]\tvalidation_0-logloss:0.52294\n",
      "[111]\tvalidation_0-logloss:0.52257\n",
      "[112]\tvalidation_0-logloss:0.52207\n",
      "[113]\tvalidation_0-logloss:0.52164\n",
      "[114]\tvalidation_0-logloss:0.52250\n",
      "[115]\tvalidation_0-logloss:0.52202\n",
      "[116]\tvalidation_0-logloss:0.52231\n",
      "[117]\tvalidation_0-logloss:0.52329\n",
      "[118]\tvalidation_0-logloss:0.52318\n",
      "[119]\tvalidation_0-logloss:0.52260\n",
      "[120]\tvalidation_0-logloss:0.52303\n",
      "[121]\tvalidation_0-logloss:0.52348\n",
      "[122]\tvalidation_0-logloss:0.52430\n",
      "[123]\tvalidation_0-logloss:0.52347\n",
      "[124]\tvalidation_0-logloss:0.52300\n",
      "[125]\tvalidation_0-logloss:0.52228\n",
      "[126]\tvalidation_0-logloss:0.52341\n",
      "[127]\tvalidation_0-logloss:0.52342\n",
      "[128]\tvalidation_0-logloss:0.52420\n",
      "[129]\tvalidation_0-logloss:0.52374\n",
      "[130]\tvalidation_0-logloss:0.52380\n",
      "[131]\tvalidation_0-logloss:0.52419\n",
      "[132]\tvalidation_0-logloss:0.52531\n",
      "[133]\tvalidation_0-logloss:0.52596\n",
      "[134]\tvalidation_0-logloss:0.52697\n",
      "[135]\tvalidation_0-logloss:0.52838\n",
      "[136]\tvalidation_0-logloss:0.52912\n",
      "[137]\tvalidation_0-logloss:0.52947\n",
      "[138]\tvalidation_0-logloss:0.53080\n",
      "[139]\tvalidation_0-logloss:0.52926\n",
      "[140]\tvalidation_0-logloss:0.53055\n",
      "[141]\tvalidation_0-logloss:0.53031\n",
      "[142]\tvalidation_0-logloss:0.53055\n",
      "[143]\tvalidation_0-logloss:0.53127\n",
      "[144]\tvalidation_0-logloss:0.53194\n",
      "[145]\tvalidation_0-logloss:0.53300\n",
      "[146]\tvalidation_0-logloss:0.53379\n",
      "[147]\tvalidation_0-logloss:0.53338\n",
      "[148]\tvalidation_0-logloss:0.53318\n",
      "[149]\tvalidation_0-logloss:0.53480\n",
      "[150]\tvalidation_0-logloss:0.53496\n",
      "[151]\tvalidation_0-logloss:0.53423\n",
      "[152]\tvalidation_0-logloss:0.53438\n",
      "[153]\tvalidation_0-logloss:0.53391\n",
      "[154]\tvalidation_0-logloss:0.53353\n",
      "[155]\tvalidation_0-logloss:0.53332\n",
      "[156]\tvalidation_0-logloss:0.53305\n",
      "[157]\tvalidation_0-logloss:0.53322\n",
      "[158]\tvalidation_0-logloss:0.53325\n",
      "[159]\tvalidation_0-logloss:0.53112\n",
      "[160]\tvalidation_0-logloss:0.53101\n",
      "[161]\tvalidation_0-logloss:0.53132\n",
      "[162]\tvalidation_0-logloss:0.53111\n",
      "[163]\tvalidation_0-logloss:0.53158\n",
      "[164]\tvalidation_0-logloss:0.53181\n",
      "[165]\tvalidation_0-logloss:0.53123\n",
      "[166]\tvalidation_0-logloss:0.53187\n",
      "[167]\tvalidation_0-logloss:0.53014\n",
      "[168]\tvalidation_0-logloss:0.53133\n",
      "[169]\tvalidation_0-logloss:0.53215\n",
      "[170]\tvalidation_0-logloss:0.53223\n",
      "[171]\tvalidation_0-logloss:0.53153\n",
      "[172]\tvalidation_0-logloss:0.53115\n",
      "[173]\tvalidation_0-logloss:0.53163\n",
      "[174]\tvalidation_0-logloss:0.53167\n",
      "[175]\tvalidation_0-logloss:0.53234\n",
      "[176]\tvalidation_0-logloss:0.53166\n",
      "[177]\tvalidation_0-logloss:0.53163\n",
      "[178]\tvalidation_0-logloss:0.53145\n",
      "[179]\tvalidation_0-logloss:0.53200\n"
     ]
    },
    {
     "data": {
      "text/html": [
       "<style>#sk-container-id-2 {color: black;background-color: white;}#sk-container-id-2 pre{padding: 0;}#sk-container-id-2 div.sk-toggleable {background-color: white;}#sk-container-id-2 label.sk-toggleable__label {cursor: pointer;display: block;width: 100%;margin-bottom: 0;padding: 0.3em;box-sizing: border-box;text-align: center;}#sk-container-id-2 label.sk-toggleable__label-arrow:before {content: \"▸\";float: left;margin-right: 0.25em;color: #696969;}#sk-container-id-2 label.sk-toggleable__label-arrow:hover:before {color: black;}#sk-container-id-2 div.sk-estimator:hover label.sk-toggleable__label-arrow:before {color: black;}#sk-container-id-2 div.sk-toggleable__content {max-height: 0;max-width: 0;overflow: hidden;text-align: left;background-color: #f0f8ff;}#sk-container-id-2 div.sk-toggleable__content pre {margin: 0.2em;color: black;border-radius: 0.25em;background-color: #f0f8ff;}#sk-container-id-2 input.sk-toggleable__control:checked~div.sk-toggleable__content {max-height: 200px;max-width: 100%;overflow: auto;}#sk-container-id-2 input.sk-toggleable__control:checked~label.sk-toggleable__label-arrow:before {content: \"▾\";}#sk-container-id-2 div.sk-estimator input.sk-toggleable__control:checked~label.sk-toggleable__label {background-color: #d4ebff;}#sk-container-id-2 div.sk-label input.sk-toggleable__control:checked~label.sk-toggleable__label {background-color: #d4ebff;}#sk-container-id-2 input.sk-hidden--visually {border: 0;clip: rect(1px 1px 1px 1px);clip: rect(1px, 1px, 1px, 1px);height: 1px;margin: -1px;overflow: hidden;padding: 0;position: absolute;width: 1px;}#sk-container-id-2 div.sk-estimator {font-family: monospace;background-color: #f0f8ff;border: 1px dotted black;border-radius: 0.25em;box-sizing: border-box;margin-bottom: 0.5em;}#sk-container-id-2 div.sk-estimator:hover {background-color: #d4ebff;}#sk-container-id-2 div.sk-parallel-item::after {content: \"\";width: 100%;border-bottom: 1px solid gray;flex-grow: 1;}#sk-container-id-2 div.sk-label:hover label.sk-toggleable__label {background-color: #d4ebff;}#sk-container-id-2 div.sk-serial::before {content: \"\";position: absolute;border-left: 1px solid gray;box-sizing: border-box;top: 0;bottom: 0;left: 50%;z-index: 0;}#sk-container-id-2 div.sk-serial {display: flex;flex-direction: column;align-items: center;background-color: white;padding-right: 0.2em;padding-left: 0.2em;position: relative;}#sk-container-id-2 div.sk-item {position: relative;z-index: 1;}#sk-container-id-2 div.sk-parallel {display: flex;align-items: stretch;justify-content: center;background-color: white;position: relative;}#sk-container-id-2 div.sk-item::before, #sk-container-id-2 div.sk-parallel-item::before {content: \"\";position: absolute;border-left: 1px solid gray;box-sizing: border-box;top: 0;bottom: 0;left: 50%;z-index: -1;}#sk-container-id-2 div.sk-parallel-item {display: flex;flex-direction: column;z-index: 1;position: relative;background-color: white;}#sk-container-id-2 div.sk-parallel-item:first-child::after {align-self: flex-end;width: 50%;}#sk-container-id-2 div.sk-parallel-item:last-child::after {align-self: flex-start;width: 50%;}#sk-container-id-2 div.sk-parallel-item:only-child::after {width: 0;}#sk-container-id-2 div.sk-dashed-wrapped {border: 1px dashed gray;margin: 0 0.4em 0.5em 0.4em;box-sizing: border-box;padding-bottom: 0.4em;background-color: white;}#sk-container-id-2 div.sk-label label {font-family: monospace;font-weight: bold;display: inline-block;line-height: 1.2em;}#sk-container-id-2 div.sk-label-container {text-align: center;}#sk-container-id-2 div.sk-container {/* jupyter's `normalize.less` sets `[hidden] { display: none; }` but bootstrap.min.css set `[hidden] { display: none !important; }` so we also need the `!important` here to be able to override the default hidden behavior on the sphinx rendered scikit-learn.org. See: https://github.com/scikit-learn/scikit-learn/issues/21755 */display: inline-block !important;position: relative;}#sk-container-id-2 div.sk-text-repr-fallback {display: none;}</style><div id=\"sk-container-id-2\" class=\"sk-top-container\"><div class=\"sk-text-repr-fallback\"><pre>XGBClassifier(base_score=None, booster=None, callbacks=None,\n",
       "              colsample_bylevel=None, colsample_bynode=None,\n",
       "              colsample_bytree=None, early_stopping_rounds=160,\n",
       "              enable_categorical=False, eval_metric=None, feature_types=None,\n",
       "              gamma=None, gpu_id=None, grow_policy=None, importance_type=None,\n",
       "              interaction_constraints=None, learning_rate=0.1, max_bin=None,\n",
       "              max_cat_threshold=None, max_cat_to_onehot=None,\n",
       "              max_delta_step=None, max_depth=None, max_leaves=None,\n",
       "              min_child_weight=None, missing=nan, monotone_constraints=None,\n",
       "              n_estimators=500, n_jobs=None, num_parallel_tree=None,\n",
       "              predictor=None, random_state=1, ...)</pre><b>In a Jupyter environment, please rerun this cell to show the HTML representation or trust the notebook. <br />On GitHub, the HTML representation is unable to render, please try loading this page with nbviewer.org.</b></div><div class=\"sk-container\" hidden><div class=\"sk-item\"><div class=\"sk-estimator sk-toggleable\"><input class=\"sk-toggleable__control sk-hidden--visually\" id=\"sk-estimator-id-2\" type=\"checkbox\" checked><label for=\"sk-estimator-id-2\" class=\"sk-toggleable__label sk-toggleable__label-arrow\">XGBClassifier</label><div class=\"sk-toggleable__content\"><pre>XGBClassifier(base_score=None, booster=None, callbacks=None,\n",
       "              colsample_bylevel=None, colsample_bynode=None,\n",
       "              colsample_bytree=None, early_stopping_rounds=160,\n",
       "              enable_categorical=False, eval_metric=None, feature_types=None,\n",
       "              gamma=None, gpu_id=None, grow_policy=None, importance_type=None,\n",
       "              interaction_constraints=None, learning_rate=0.1, max_bin=None,\n",
       "              max_cat_threshold=None, max_cat_to_onehot=None,\n",
       "              max_delta_step=None, max_depth=None, max_leaves=None,\n",
       "              min_child_weight=None, missing=nan, monotone_constraints=None,\n",
       "              n_estimators=500, n_jobs=None, num_parallel_tree=None,\n",
       "              predictor=None, random_state=1, ...)</pre></div></div></div></div></div>"
      ],
      "text/plain": [
       "XGBClassifier(base_score=None, booster=None, callbacks=None,\n",
       "              colsample_bylevel=None, colsample_bynode=None,\n",
       "              colsample_bytree=None, early_stopping_rounds=160,\n",
       "              enable_categorical=False, eval_metric=None, feature_types=None,\n",
       "              gamma=None, gpu_id=None, grow_policy=None, importance_type=None,\n",
       "              interaction_constraints=None, learning_rate=0.1, max_bin=None,\n",
       "              max_cat_threshold=None, max_cat_to_onehot=None,\n",
       "              max_delta_step=None, max_depth=None, max_leaves=None,\n",
       "              min_child_weight=None, missing=nan, monotone_constraints=None,\n",
       "              n_estimators=500, n_jobs=None, num_parallel_tree=None,\n",
       "              predictor=None, random_state=1, ...)"
      ]
     },
     "execution_count": 61,
     "metadata": {},
     "output_type": "execute_result"
    }
   ],
   "source": [
    "model_no_cv = XGBClassifier(n_estimators=500, learning_rate=0.1, verbosity=1, random_state=1, early_stopping_rounds=160)\n",
    "model_no_cv.fit(x_train, y_train, eval_set=[(x_, y_)])"
   ]
  },
  {
   "cell_type": "code",
   "execution_count": 62,
   "metadata": {},
   "outputs": [
    {
     "data": {
      "text/plain": [
       "20"
      ]
     },
     "execution_count": 62,
     "metadata": {},
     "output_type": "execute_result"
    }
   ],
   "source": [
    "model_no_cv.best_iteration"
   ]
  },
  {
   "cell_type": "code",
   "execution_count": 63,
   "metadata": {},
   "outputs": [
    {
     "data": {
      "text/plain": [
       "0.4614405567502842"
      ]
     },
     "execution_count": 63,
     "metadata": {},
     "output_type": "execute_result"
    }
   ],
   "source": [
    "model_no_cv.best_score"
   ]
  },
  {
   "cell_type": "code",
   "execution_count": 64,
   "metadata": {},
   "outputs": [
    {
     "name": "stdout",
     "output_type": "stream",
     "text": [
      "Metrics\n",
      "Accuracy in the train dataset: 0.9044943820224719\n",
      "Accuracy in the test dataset: 0.7821229050279329\n",
      "Confusion matrix of the test dataset:\n",
      "[[97  9]\n",
      " [30 43]]\n",
      "Mean Squared Error: 0.21787709497206703\n",
      "F1 Score: 0.6880000000000001\n",
      "Precision Score: 0.8269230769230769\n",
      "Recall Score: 0.589041095890411\n",
      "Precision, Recall, f1_score: (array([0.76377953, 0.82692308]), array([0.91509434, 0.5890411 ]), array([0.83261803, 0.688     ]), array([106,  73], dtype=int64))\n"
     ]
    }
   ],
   "source": [
    "print('Metrics')\n",
    "print(f'Accuracy in the train dataset: {accuracy_score(model_no_cv.predict(x_train), y_train)}')\n",
    "# print(f'Accuracy in the cross validation dataset: {accuracy_score(model_no_cv.predict(x_cv), y_cv)}')\n",
    "print(f'Accuracy in the test dataset: {accuracy_score(model_no_cv.predict(x_), y_)}')\n",
    "print(f'Confusion matrix of the test dataset:\\n{confusion_matrix(y_, model_no_cv.predict(x_))}')\n",
    "print(f'Mean Squared Error: {mean_squared_error(y_, model_no_cv.predict(x_))}')\n",
    "print(f'F1 Score: {f1_score(y_, model_no_cv.predict(x_))}')\n",
    "print(f'Precision Score: {precision_score(y_, model_no_cv.predict(x_))}')\n",
    "print(f'Recall Score: {recall_score(y_, model_no_cv.predict(x_))}')\n",
    "print(f'Precision, Recall, f1_score: {precision_recall_fscore_support(y_, model_no_cv.predict(x_))}')"
   ]
  },
  {
   "attachments": {},
   "cell_type": "markdown",
   "metadata": {},
   "source": [
    "##  Prepare and submit the model"
   ]
  },
  {
   "attachments": {},
   "cell_type": "markdown",
   "metadata": {},
   "source": [
    "First, we need to know what we should upload to kaggle "
   ]
  },
  {
   "cell_type": "code",
   "execution_count": 65,
   "metadata": {},
   "outputs": [
    {
     "data": {
      "text/html": [
       "<div>\n",
       "<style scoped>\n",
       "    .dataframe tbody tr th:only-of-type {\n",
       "        vertical-align: middle;\n",
       "    }\n",
       "\n",
       "    .dataframe tbody tr th {\n",
       "        vertical-align: top;\n",
       "    }\n",
       "\n",
       "    .dataframe thead th {\n",
       "        text-align: right;\n",
       "    }\n",
       "</style>\n",
       "<table border=\"1\" class=\"dataframe\">\n",
       "  <thead>\n",
       "    <tr style=\"text-align: right;\">\n",
       "      <th></th>\n",
       "      <th>PassengerId</th>\n",
       "      <th>Survived</th>\n",
       "    </tr>\n",
       "  </thead>\n",
       "  <tbody>\n",
       "    <tr>\n",
       "      <th>0</th>\n",
       "      <td>892</td>\n",
       "      <td>0</td>\n",
       "    </tr>\n",
       "    <tr>\n",
       "      <th>1</th>\n",
       "      <td>893</td>\n",
       "      <td>1</td>\n",
       "    </tr>\n",
       "    <tr>\n",
       "      <th>2</th>\n",
       "      <td>894</td>\n",
       "      <td>0</td>\n",
       "    </tr>\n",
       "    <tr>\n",
       "      <th>3</th>\n",
       "      <td>895</td>\n",
       "      <td>0</td>\n",
       "    </tr>\n",
       "    <tr>\n",
       "      <th>4</th>\n",
       "      <td>896</td>\n",
       "      <td>1</td>\n",
       "    </tr>\n",
       "  </tbody>\n",
       "</table>\n",
       "</div>"
      ],
      "text/plain": [
       "   PassengerId  Survived\n",
       "0          892         0\n",
       "1          893         1\n",
       "2          894         0\n",
       "3          895         0\n",
       "4          896         1"
      ]
     },
     "execution_count": 65,
     "metadata": {},
     "output_type": "execute_result"
    }
   ],
   "source": [
    "df_example = pd.read_csv('data/gender_submission.csv')\n",
    "df_example.head()"
   ]
  },
  {
   "cell_type": "markdown",
   "metadata": {},
   "source": [
    "So we're going to submit a .csv file with only two columns the PassengerId and the prediciton "
   ]
  },
  {
   "cell_type": "code",
   "execution_count": 66,
   "metadata": {},
   "outputs": [],
   "source": [
    "df_target = pd.read_csv('data/test.csv')"
   ]
  },
  {
   "cell_type": "code",
   "execution_count": 67,
   "metadata": {},
   "outputs": [
    {
     "data": {
      "text/plain": [
       "(418, 11)"
      ]
     },
     "execution_count": 67,
     "metadata": {},
     "output_type": "execute_result"
    }
   ],
   "source": [
    "df_target.shape"
   ]
  },
  {
   "cell_type": "code",
   "execution_count": 68,
   "metadata": {},
   "outputs": [
    {
     "data": {
      "text/plain": [
       "PassengerId      0\n",
       "Pclass           0\n",
       "Name             0\n",
       "Sex              0\n",
       "Age             86\n",
       "SibSp            0\n",
       "Parch            0\n",
       "Ticket           0\n",
       "Fare             1\n",
       "Cabin          327\n",
       "Embarked         0\n",
       "dtype: int64"
      ]
     },
     "execution_count": 68,
     "metadata": {},
     "output_type": "execute_result"
    }
   ],
   "source": [
    "df_target.isnull().sum()"
   ]
  },
  {
   "cell_type": "code",
   "execution_count": 69,
   "metadata": {},
   "outputs": [],
   "source": [
    "df_target['Age'].fillna(df['Age'].median(), inplace=True)\n",
    "df_target['Cabin'].fillna('null', inplace=True)\n",
    "df_target['Fare'].fillna(df['Fare'].mean(), inplace=True)"
   ]
  },
  {
   "cell_type": "code",
   "execution_count": 70,
   "metadata": {},
   "outputs": [
    {
     "name": "stderr",
     "output_type": "stream",
     "text": [
      "C:\\Users\\Brahyam Almonte Ruiz\\AppData\\Local\\Temp\\ipykernel_17280\\2890098460.py:3: SettingWithCopyWarning: \n",
      "A value is trying to be set on a copy of a slice from a DataFrame\n",
      "\n",
      "See the caveats in the documentation: https://pandas.pydata.org/pandas-docs/stable/user_guide/indexing.html#returning-a-view-versus-a-copy\n",
      "  df_target['Title'].iloc[i] = str(df_target['Name'].iloc[i]).split(', ')[1].split('.')[0]\n"
     ]
    }
   ],
   "source": [
    "df_target['Title'] = np.nan\n",
    "for i in range(df_target['Name'].shape[0]):\n",
    "    df_target['Title'].iloc[i] = str(df_target['Name'].iloc[i]).split(', ')[1].split('.')[0]"
   ]
  },
  {
   "cell_type": "code",
   "execution_count": 71,
   "metadata": {},
   "outputs": [
    {
     "name": "stderr",
     "output_type": "stream",
     "text": [
      "C:\\Users\\Brahyam Almonte Ruiz\\AppData\\Local\\Temp\\ipykernel_17280\\3195870300.py:4: SettingWithCopyWarning: \n",
      "A value is trying to be set on a copy of a slice from a DataFrame\n",
      "\n",
      "See the caveats in the documentation: https://pandas.pydata.org/pandas-docs/stable/user_guide/indexing.html#returning-a-view-versus-a-copy\n",
      "  df_target['Cabin_Letter'].iloc[i] = df_target['Cabin'].iloc[i][0]\n"
     ]
    }
   ],
   "source": [
    "df_target['Cabin_Letter'] = np.nan\n",
    "for i in range(df_target['Cabin'].shape[0]):\n",
    "    if df_target['Cabin'].isnull()[i] == False:\n",
    "        df_target['Cabin_Letter'].iloc[i] = df_target['Cabin'].iloc[i][0]"
   ]
  },
  {
   "cell_type": "code",
   "execution_count": 72,
   "metadata": {},
   "outputs": [],
   "source": [
    "# age_scaler = StandardScaler()\n",
    "# fare_scaler = StandardScaler()\n",
    "df_target['Age'] = age_scaler.transform(df_target['Age'].values.reshape(-1, 1))\n",
    "df_target['Fare'] = fare_scaler.transform(df_target['Fare'].values.reshape(-1, 1))"
   ]
  },
  {
   "cell_type": "code",
   "execution_count": 73,
   "metadata": {},
   "outputs": [
    {
     "data": {
      "text/plain": [
       "['Capt',\n",
       " 'Col',\n",
       " 'Don',\n",
       " 'Dr',\n",
       " 'Jonkheer',\n",
       " 'Lady',\n",
       " 'Major',\n",
       " 'Master',\n",
       " 'Miss',\n",
       " 'Mlle',\n",
       " 'Mme',\n",
       " 'Mr',\n",
       " 'Mrs',\n",
       " 'Ms',\n",
       " 'Rev',\n",
       " 'Sir',\n",
       " 'the Countess',\n",
       " 'Dona']"
      ]
     },
     "execution_count": 73,
     "metadata": {},
     "output_type": "execute_result"
    }
   ],
   "source": [
    "# ex_encoder = LabelEncoder()\n",
    "# embarked_encoder = LabelEncoder()\n",
    "# title_encoder = LabelEncoder()\n",
    "# cabin_letter_encoder = LabelEncoder()\n",
    "title_encoder.classes_ = list(title_encoder.classes_) + ['Dona']\n",
    "title_encoder.classes_"
   ]
  },
  {
   "cell_type": "code",
   "execution_count": 74,
   "metadata": {},
   "outputs": [],
   "source": [
    "df_target['Sex'] = sex_encoder.transform(df_target['Sex'])\n",
    "df_target['Embarked'] = embarked_encoder.transform(df_target['Embarked'])\n",
    "df_target['Title'] = title_encoder.transform(df_target['Title'])\n",
    "df_target['Cabin_Letter'] = cabin_letter_encoder.transform(df_target['Cabin_Letter'])"
   ]
  },
  {
   "cell_type": "code",
   "execution_count": 75,
   "metadata": {},
   "outputs": [
    {
     "data": {
      "text/html": [
       "<div>\n",
       "<style scoped>\n",
       "    .dataframe tbody tr th:only-of-type {\n",
       "        vertical-align: middle;\n",
       "    }\n",
       "\n",
       "    .dataframe tbody tr th {\n",
       "        vertical-align: top;\n",
       "    }\n",
       "\n",
       "    .dataframe thead th {\n",
       "        text-align: right;\n",
       "    }\n",
       "</style>\n",
       "<table border=\"1\" class=\"dataframe\">\n",
       "  <thead>\n",
       "    <tr style=\"text-align: right;\">\n",
       "      <th></th>\n",
       "      <th>Pclass</th>\n",
       "      <th>Sex</th>\n",
       "      <th>Age</th>\n",
       "      <th>SibSp</th>\n",
       "      <th>Parch</th>\n",
       "      <th>Fare</th>\n",
       "      <th>Embarked</th>\n",
       "      <th>Title</th>\n",
       "      <th>Cabin_Letter</th>\n",
       "    </tr>\n",
       "  </thead>\n",
       "  <tbody>\n",
       "    <tr>\n",
       "      <th>0</th>\n",
       "      <td>3</td>\n",
       "      <td>1</td>\n",
       "      <td>0.394887</td>\n",
       "      <td>0</td>\n",
       "      <td>0</td>\n",
       "      <td>-0.490783</td>\n",
       "      <td>1</td>\n",
       "      <td>11</td>\n",
       "      <td>8</td>\n",
       "    </tr>\n",
       "    <tr>\n",
       "      <th>1</th>\n",
       "      <td>3</td>\n",
       "      <td>0</td>\n",
       "      <td>1.355510</td>\n",
       "      <td>1</td>\n",
       "      <td>0</td>\n",
       "      <td>-0.507479</td>\n",
       "      <td>2</td>\n",
       "      <td>12</td>\n",
       "      <td>8</td>\n",
       "    </tr>\n",
       "    <tr>\n",
       "      <th>2</th>\n",
       "      <td>2</td>\n",
       "      <td>1</td>\n",
       "      <td>2.508257</td>\n",
       "      <td>0</td>\n",
       "      <td>0</td>\n",
       "      <td>-0.453367</td>\n",
       "      <td>1</td>\n",
       "      <td>11</td>\n",
       "      <td>8</td>\n",
       "    </tr>\n",
       "    <tr>\n",
       "      <th>3</th>\n",
       "      <td>3</td>\n",
       "      <td>1</td>\n",
       "      <td>-0.181487</td>\n",
       "      <td>0</td>\n",
       "      <td>0</td>\n",
       "      <td>-0.474005</td>\n",
       "      <td>2</td>\n",
       "      <td>11</td>\n",
       "      <td>8</td>\n",
       "    </tr>\n",
       "    <tr>\n",
       "      <th>4</th>\n",
       "      <td>3</td>\n",
       "      <td>0</td>\n",
       "      <td>-0.565736</td>\n",
       "      <td>1</td>\n",
       "      <td>1</td>\n",
       "      <td>-0.401017</td>\n",
       "      <td>2</td>\n",
       "      <td>12</td>\n",
       "      <td>8</td>\n",
       "    </tr>\n",
       "  </tbody>\n",
       "</table>\n",
       "</div>"
      ],
      "text/plain": [
       "   Pclass  Sex       Age  SibSp  Parch      Fare  Embarked  Title  \\\n",
       "0       3    1  0.394887      0      0 -0.490783         1     11   \n",
       "1       3    0  1.355510      1      0 -0.507479         2     12   \n",
       "2       2    1  2.508257      0      0 -0.453367         1     11   \n",
       "3       3    1 -0.181487      0      0 -0.474005         2     11   \n",
       "4       3    0 -0.565736      1      1 -0.401017         2     12   \n",
       "\n",
       "   Cabin_Letter  \n",
       "0             8  \n",
       "1             8  \n",
       "2             8  \n",
       "3             8  \n",
       "4             8  "
      ]
     },
     "execution_count": 75,
     "metadata": {},
     "output_type": "execute_result"
    }
   ],
   "source": [
    "df_target[features].head()"
   ]
  },
  {
   "cell_type": "code",
   "execution_count": 76,
   "metadata": {},
   "outputs": [
    {
     "data": {
      "text/plain": [
       "0      0\n",
       "1      0\n",
       "2      0\n",
       "3      0\n",
       "4      1\n",
       "      ..\n",
       "413    1\n",
       "414    1\n",
       "415    0\n",
       "416    1\n",
       "417    1\n",
       "Name: Survived, Length: 418, dtype: int32"
      ]
     },
     "execution_count": 76,
     "metadata": {},
     "output_type": "execute_result"
    }
   ],
   "source": [
    "survived = pd.Series(model.predict(df_target[features]), name='Survived')\n",
    "survived"
   ]
  },
  {
   "cell_type": "code",
   "execution_count": 77,
   "metadata": {},
   "outputs": [],
   "source": [
    "df_solution = pd.merge(df_target['PassengerId'], survived, left_index=True, right_index=True)"
   ]
  },
  {
   "cell_type": "code",
   "execution_count": 78,
   "metadata": {},
   "outputs": [
    {
     "data": {
      "text/html": [
       "<div>\n",
       "<style scoped>\n",
       "    .dataframe tbody tr th:only-of-type {\n",
       "        vertical-align: middle;\n",
       "    }\n",
       "\n",
       "    .dataframe tbody tr th {\n",
       "        vertical-align: top;\n",
       "    }\n",
       "\n",
       "    .dataframe thead th {\n",
       "        text-align: right;\n",
       "    }\n",
       "</style>\n",
       "<table border=\"1\" class=\"dataframe\">\n",
       "  <thead>\n",
       "    <tr style=\"text-align: right;\">\n",
       "      <th></th>\n",
       "      <th>PassengerId</th>\n",
       "      <th>Survived</th>\n",
       "    </tr>\n",
       "  </thead>\n",
       "  <tbody>\n",
       "    <tr>\n",
       "      <th>0</th>\n",
       "      <td>892</td>\n",
       "      <td>0</td>\n",
       "    </tr>\n",
       "    <tr>\n",
       "      <th>1</th>\n",
       "      <td>893</td>\n",
       "      <td>0</td>\n",
       "    </tr>\n",
       "    <tr>\n",
       "      <th>2</th>\n",
       "      <td>894</td>\n",
       "      <td>0</td>\n",
       "    </tr>\n",
       "    <tr>\n",
       "      <th>3</th>\n",
       "      <td>895</td>\n",
       "      <td>0</td>\n",
       "    </tr>\n",
       "    <tr>\n",
       "      <th>4</th>\n",
       "      <td>896</td>\n",
       "      <td>1</td>\n",
       "    </tr>\n",
       "  </tbody>\n",
       "</table>\n",
       "</div>"
      ],
      "text/plain": [
       "   PassengerId  Survived\n",
       "0          892         0\n",
       "1          893         0\n",
       "2          894         0\n",
       "3          895         0\n",
       "4          896         1"
      ]
     },
     "execution_count": 78,
     "metadata": {},
     "output_type": "execute_result"
    }
   ],
   "source": [
    "df_solution.head()"
   ]
  },
  {
   "cell_type": "code",
   "execution_count": 79,
   "metadata": {},
   "outputs": [],
   "source": [
    "df_solution.to_csv('data/submission.csv', index=False)"
   ]
  }
 ],
 "metadata": {
  "kernelspec": {
   "display_name": "Python 3",
   "language": "python",
   "name": "python3"
  },
  "language_info": {
   "codemirror_mode": {
    "name": "ipython",
    "version": 3
   },
   "file_extension": ".py",
   "mimetype": "text/x-python",
   "name": "python",
   "nbconvert_exporter": "python",
   "pygments_lexer": "ipython3",
   "version": "3.11.0"
  },
  "orig_nbformat": 4
 },
 "nbformat": 4,
 "nbformat_minor": 2
}
